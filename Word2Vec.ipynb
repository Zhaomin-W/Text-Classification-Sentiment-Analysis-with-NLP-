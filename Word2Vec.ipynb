{
 "cells": [
  {
   "cell_type": "markdown",
   "metadata": {},
   "source": [
    "<h1><center>Import Pre-Trained Word2Vec Model</center></h1>"
   ]
  },
  {
   "cell_type": "code",
   "execution_count": 8,
   "metadata": {},
   "outputs": [
    {
     "name": "stderr",
     "output_type": "stream",
     "text": [
      "[nltk_data] Downloading package stopwords to /Users/wang/nltk_data...\n",
      "[nltk_data]   Package stopwords is already up-to-date!\n",
      "[nltk_data] Downloading package punkt to /Users/wang/nltk_data...\n",
      "[nltk_data]   Package punkt is already up-to-date!\n"
     ]
    }
   ],
   "source": [
    "#pip install gensim\n",
    "from gensim.models import Word2Vec, KeyedVectors\n",
    "\n",
    "import pandas as pd\n",
    "pd.set_option('max_colwidth',99999)\n",
    "import numpy as np\n",
    "import re \n",
    "\n",
    "import nltk\n",
    "from nltk.tokenize import word_tokenize\n",
    "from nltk.corpus import stopwords\n",
    "nltk.download('stopwords')\n",
    "stop_words = set(stopwords.words('english'))\n",
    "nltk.download('punkt')\n",
    "\n",
    "import gensim\n",
    "from gensim.models import Word2Vec, word2vec\n",
    "from gensim.test.utils import common_texts, get_tmpfile\n",
    "\n",
    "from sklearn.model_selection import train_test_split\n",
    "from sklearn.feature_extraction.text import TfidfVectorizer\n",
    "from sklearn.linear_model import SGDClassifier, LogisticRegression\n",
    "from sklearn.metrics import accuracy_score, classification_report\n",
    "\n",
    "import warnings\n",
    "warnings.simplefilter(\"ignore\")"
   ]
  },
  {
   "cell_type": "code",
   "execution_count": 10,
   "metadata": {
    "scrolled": true
   },
   "outputs": [],
   "source": [
    "# read in google word2vec pre-trained model\n",
    "# https://code.google.com/archive/p/word2vec/\n",
    "model = KeyedVectors.load_word2vec_format('./Data/ASU-W2V-Workshop-master/GoogleNews-vectors-negative300.bin.gz', binary=True)"
   ]
  },
  {
   "cell_type": "markdown",
   "metadata": {},
   "source": [
    "<h1><center>Explore Word2Vec Similarity</center></h1>"
   ]
  },
  {
   "cell_type": "code",
   "execution_count": 11,
   "metadata": {},
   "outputs": [
    {
     "data": {
      "text/plain": [
       "300"
      ]
     },
     "execution_count": 11,
     "metadata": {},
     "output_type": "execute_result"
    }
   ],
   "source": [
    "model.vector_size"
   ]
  },
  {
   "cell_type": "code",
   "execution_count": 5,
   "metadata": {},
   "outputs": [],
   "source": [
    "#vocabulary words\n",
    "#model.index2word"
   ]
  },
  {
   "cell_type": "code",
   "execution_count": 6,
   "metadata": {
    "scrolled": true
   },
   "outputs": [
    {
     "data": {
      "text/plain": [
       "array([-1.1043e-01,  8.1217e-01,  7.3668e-02,  1.9023e-01, -5.2888e-02,\n",
       "        6.1468e-02,  1.6076e-01,  4.1302e-01, -3.0199e-01, -9.0827e-01,\n",
       "        2.7504e-01, -3.1890e-02, -2.8842e-01,  2.3447e-01,  4.7679e-01,\n",
       "        5.0124e-01,  2.9371e-01,  2.7029e-01,  5.4745e-02,  9.8038e-02,\n",
       "        5.7116e-01,  3.6755e-01,  4.0734e-02,  3.4347e-01, -1.8256e-01,\n",
       "       -2.8935e-01,  2.3826e-02, -1.9401e-01,  2.4444e-01,  1.3407e-01,\n",
       "       -1.6494e-01, -2.6983e-01, -2.6234e-01, -2.1779e-01, -8.7528e-01,\n",
       "        7.3822e-01, -8.7931e-02, -1.0876e-02, -2.6540e-01,  3.4668e-01,\n",
       "       -5.5814e-01,  1.7591e-01,  1.6926e-01, -1.5725e-01, -5.0430e-01,\n",
       "       -2.0100e-01,  6.6701e-01, -3.2518e-02,  4.5012e-02,  6.5675e-02,\n",
       "       -1.6061e-01, -7.3363e-01,  2.4642e-01,  3.4325e-01,  2.1899e-01,\n",
       "        4.8646e-02, -5.9987e-01, -5.8153e-02, -5.1694e-02, -5.7846e-01,\n",
       "        3.0000e-01,  3.5078e-01,  4.6646e-01, -7.5309e-03,  1.0455e-01,\n",
       "       -5.1016e-01, -5.5987e-02, -1.0295e-01, -2.6476e-01, -4.1230e-02,\n",
       "       -2.8371e-02,  5.1979e-01, -3.4849e-01, -4.7217e-01, -3.7229e-01,\n",
       "       -3.2790e-02,  1.3989e-01,  3.5716e-01,  1.9305e-01, -2.1986e-01,\n",
       "        2.4136e-01,  4.0976e-01,  3.7516e-01,  1.4255e-01, -3.4143e-02,\n",
       "       -7.2653e-01, -1.0832e-01,  6.8616e-01, -2.6335e-01, -4.2345e-01,\n",
       "       -2.4253e-01,  1.5778e-01,  1.4258e-01, -3.2749e-01, -3.4699e-01,\n",
       "        1.6148e-01,  1.9603e-01,  4.1639e-01, -2.3370e-01,  7.5816e-02,\n",
       "        1.5899e-01,  1.6623e-03, -4.8301e-02, -1.0611e-01, -1.9326e-01,\n",
       "        1.4494e-01,  1.5406e-02,  1.0629e-01, -3.6699e-02,  6.3230e-01,\n",
       "        1.2986e-01,  4.9902e-01, -1.1323e+00, -1.2636e-01,  6.4718e-02,\n",
       "        1.2374e-01, -4.9712e-01, -1.4836e-02,  1.0488e-01, -4.9818e-01,\n",
       "       -2.8856e-01,  3.8949e-01, -3.1828e-02, -2.8625e-01, -9.8758e-02,\n",
       "       -7.6990e-02, -2.4234e-01,  7.5793e-01,  3.4835e-01, -7.1030e-01,\n",
       "        4.5318e-01, -3.4418e-01, -1.9459e-01,  6.1478e-01, -2.9010e-02,\n",
       "       -2.7864e-01,  3.8556e-01,  1.0072e-01,  1.2895e-01,  1.7992e-02,\n",
       "        3.3670e-01,  2.0698e-01, -3.8049e-01, -6.6661e-03,  1.1540e-01,\n",
       "       -8.5268e-02, -1.4608e-01,  4.4514e-01, -9.3674e-02,  2.3639e-01,\n",
       "       -1.1447e-01,  1.0948e+00, -5.7823e-02, -1.6295e-01,  5.5880e-01,\n",
       "       -1.8988e-02, -7.1374e-02,  2.1319e-01,  6.1277e-02,  7.2759e-01,\n",
       "        6.2747e-01, -1.9280e-01,  1.3057e-01,  1.7426e-01, -1.0229e-01,\n",
       "        1.5232e-01,  5.2500e-01, -2.1919e-01, -2.7185e-01, -5.4186e-01,\n",
       "        3.1752e-01,  1.6375e-01, -2.9039e-01,  1.7074e-01, -3.1814e-01,\n",
       "       -9.6421e-01, -1.1610e-01, -2.9951e-01,  1.8686e-01, -4.5986e-01,\n",
       "        4.1633e-01, -1.7583e-01, -3.4583e-01, -2.7244e-01, -5.0216e-01,\n",
       "        1.2852e-02,  5.9838e-01, -1.1237e-01,  2.4697e-01, -4.9048e-01,\n",
       "       -4.4188e-01, -1.6255e-01, -7.3313e-01, -3.7677e-01, -6.8925e-01,\n",
       "        6.1174e-02, -4.2101e-01, -1.3153e-01, -8.3590e-03, -1.8360e-02,\n",
       "        1.3686e+00,  4.6169e-02,  9.4622e-01, -1.5126e-02, -1.2477e-01,\n",
       "        4.8754e-01,  2.2384e-01, -2.1820e-01, -2.3389e-01,  1.5207e-01,\n",
       "       -2.8718e-01, -6.3908e-01, -2.2383e-01, -1.8014e-01, -3.3548e-01,\n",
       "        5.3587e-01, -2.9367e-01,  1.0866e-01,  6.3411e-02, -9.3424e-03,\n",
       "       -1.5886e-01,  2.2602e-01,  1.1925e-01, -4.1442e-01, -7.8062e-02,\n",
       "       -9.7857e-02,  2.7938e-01, -1.8348e-01, -3.4584e-01,  1.8489e-01,\n",
       "        1.7402e-01, -5.2198e-01, -4.3306e-01,  1.6256e-01,  1.4032e-01,\n",
       "        3.5124e-01, -1.8280e-01, -3.5984e-01, -1.3009e-01,  1.6304e-01,\n",
       "        3.1734e-01,  3.7716e-03, -4.5498e-02, -4.2066e-01, -4.4419e-01,\n",
       "       -6.8985e-01, -4.9359e-01,  7.0281e-02, -1.4377e-01,  6.2508e-01,\n",
       "       -5.6311e-02,  1.8850e-01, -5.6785e-02,  1.4052e-01,  1.1973e+00,\n",
       "        7.1894e-01,  5.4332e-01, -1.2461e-01, -1.1978e-01,  3.0163e-01,\n",
       "       -1.6273e-01, -4.6740e-02, -2.5249e-01, -3.0659e-02, -3.2271e-01,\n",
       "        3.2361e-01,  3.3244e-01, -2.7819e-02, -3.3367e-01, -2.3444e-02,\n",
       "       -5.0394e-01, -2.0587e-01, -1.3013e-01, -3.5884e-01,  4.5384e-02,\n",
       "       -1.1863e-01, -1.7257e+00,  3.9441e-01, -5.3179e-01,  5.8209e-01,\n",
       "       -6.5771e-01,  3.6849e-01,  2.3518e-01,  1.0802e-01, -8.3159e-01,\n",
       "        6.1486e-01,  2.5547e-01, -4.5289e-01,  5.1446e-01, -1.7911e-01,\n",
       "       -1.2389e-01,  1.8688e-01, -4.1102e-01, -7.0877e-01, -3.7501e-01,\n",
       "       -6.6152e-01,  6.7730e-01,  3.3936e-01,  5.7994e-01,  6.8149e-02],\n",
       "      dtype=float32)"
      ]
     },
     "execution_count": 6,
     "metadata": {},
     "output_type": "execute_result"
    }
   ],
   "source": [
    "#model.get_vector('dog')\n",
    "model['dog']"
   ]
  },
  {
   "cell_type": "code",
   "execution_count": 16,
   "metadata": {
    "scrolled": false
   },
   "outputs": [
    {
     "data": {
      "text/plain": [
       "[('dogs', 0.8680490255355835),\n",
       " ('puppy', 0.8106428384780884),\n",
       " ('pit_bull', 0.780396044254303),\n",
       " ('pooch', 0.7627376317977905),\n",
       " ('cat', 0.7609457969665527),\n",
       " ('golden_retriever', 0.7500901818275452),\n",
       " ('German_shepherd', 0.7465174198150635),\n",
       " ('Rottweiler', 0.7437615394592285),\n",
       " ('beagle', 0.7418621778488159),\n",
       " ('pup', 0.7406911253929138)]"
      ]
     },
     "execution_count": 16,
     "metadata": {},
     "output_type": "execute_result"
    }
   ],
   "source": [
    "model.similar_by_word('dog')"
   ]
  },
  {
   "cell_type": "code",
   "execution_count": 8,
   "metadata": {},
   "outputs": [
    {
     "data": {
      "text/plain": [
       "0.62082785"
      ]
     },
     "execution_count": 8,
     "metadata": {},
     "output_type": "execute_result"
    }
   ],
   "source": [
    "model.similarity('man','boy')"
   ]
  },
  {
   "cell_type": "code",
   "execution_count": 9,
   "metadata": {},
   "outputs": [
    {
     "data": {
      "text/plain": [
       "'egg'"
      ]
     },
     "execution_count": 9,
     "metadata": {},
     "output_type": "execute_result"
    }
   ],
   "source": [
    "model.doesnt_match(['banana', 'apple', 'grapes', 'egg'])"
   ]
  },
  {
   "cell_type": "markdown",
   "metadata": {},
   "source": [
    "### Word2Vec (Neural Net)\n",
    "\n",
    "a. Skip Gram Model: use context words to predict target word\n",
    "\n",
    "b. Continuous Bag of Words Model: use target word to predict context words\n",
    "\n"
   ]
  },
  {
   "cell_type": "code",
   "execution_count": null,
   "metadata": {},
   "outputs": [],
   "source": []
  },
  {
   "cell_type": "code",
   "execution_count": null,
   "metadata": {},
   "outputs": [],
   "source": []
  },
  {
   "cell_type": "markdown",
   "metadata": {},
   "source": [
    "<h1><center>Read in Movie Review Data</center></h1>"
   ]
  },
  {
   "cell_type": "code",
   "execution_count": 69,
   "metadata": {},
   "outputs": [],
   "source": [
    "import numpy as np\n",
    "import pandas as pd"
   ]
  },
  {
   "cell_type": "code",
   "execution_count": 71,
   "metadata": {
    "scrolled": true
   },
   "outputs": [
    {
     "data": {
      "text/html": [
       "<div>\n",
       "<style scoped>\n",
       "    .dataframe tbody tr th:only-of-type {\n",
       "        vertical-align: middle;\n",
       "    }\n",
       "\n",
       "    .dataframe tbody tr th {\n",
       "        vertical-align: top;\n",
       "    }\n",
       "\n",
       "    .dataframe thead th {\n",
       "        text-align: right;\n",
       "    }\n",
       "</style>\n",
       "<table border=\"1\" class=\"dataframe\">\n",
       "  <thead>\n",
       "    <tr style=\"text-align: right;\">\n",
       "      <th></th>\n",
       "      <th>file</th>\n",
       "      <th>text</th>\n",
       "      <th>class</th>\n",
       "    </tr>\n",
       "  </thead>\n",
       "  <tbody>\n",
       "    <tr>\n",
       "      <th>791</th>\n",
       "      <td>cv590_20712.txt</td>\n",
       "      <td>if you're debating whether or not to see _breakfast_of_champions_ , ask yourself one simple question : do you want to see nick nolte in lingerie ? \\nthe only people who would get much enjoyment from alan rudolph's chaotic adaptation of the kurt vonnegut novel is the cross-section of the population with the unhealthy urge to see that unpleasant sight . \\neveryone else--and i'm hoping that's most people--would be wise to steer clear of this excrutiatingly unfunny mess . \\nactually , though , the sight of nolte in high heels is one of the more amusing things about this muddle , which focuses dwayne hoover ( bruce willis ) , the owner of dwayne hoover's exit 11 motor village in midland city . \\nnot only is he a huge success as a businessman , he's also something of a celebrity , his face made recognizable by an ongoing series of television commercials . \\nwith a nice home and family to boot , dwayne appears to have it all the ingredients to be happy--yet he's not . \\nhis wife celia ( barbara hershey ) is perpetually in a pill-induced haze ; his son george ( lukas haas ) is a flamboyant lounge singer who goes by the stage name \" bunny . \" \\nnot only that , the environmental protection agency is on dwayne's ass over a building development project . \\nit's enough to send dwayne on a nervous breakdown--that is , if he doesn't succeed in blowing his brains out first . \\nmeanwhile , midland city is about to host a fine arts festival , and the guest of honor is one kilgore trout ( albert finney ) , a writer who is far from the renowned author the festival's organizer ( buck henry ) was led to believe--in fact , he's a penniless hack who writes second-rate sci-fi that appears in porn magazines . \\nhis trek to midland city is also a spiritual journey , one that reaches its apex after meeting dwayne , who for some reason thinks that trout will hold for him all of life's answers . \\nthe above is already a longer plot synopsis than i usually give in my reviews , but , ironically , i have barely scratched the surface . \\ni haven't yet mentioned wayne hoobler ( omar epps ) , an ex-con with an obsessive admiration for the similarly-named dwayne . \\nthen there's the matter of francine ( glenne headly ) , dwayne's devoted secretary . \\nnot to mention dwayne's employee and old friend harry lesabre ( nolte ) , the one with the secret penchant for cross-dressing . \\nand so on . \\nthe film is essentially dwayne's story , but too often rudolph goes on distracting tangents with the eccentric peripheral players that one often wonders what the point is . \\nrudolph does arrive at a point ( more on that later ) , but it's blunted and obscured by his hyperactive approach to the material . \\nthe surreal visual style , complete with printed words flying through the air and into dwayne's ears , is obviously meant to convey a sense of madness , but its bludgeoning nature is likely to make viewers mad . \\nthe actors are called on to act accordingly , resulting in some of the worst , most overdone work all of them have ever turned in . \\nwillis fares best of all--but that's because his frozen expression of befuddled bewilderment mirrors that of the audience . \\nwith such an aggressively outrageous atmosphere for nearly all of its running time , it comes as a shock when things suddenly turn serious , and rudolph tries to make a statement . \\nunlike _american_beauty_ ( a film that _breakfast_ resembles in more than a few ways , to its great detriment ) , there isn't any palpably earnest undercurrent that would prepare the audience for the big shift . \\nas such , the cartoony characters fail to win a sympathy that needs to be earned ; and the film attempts , to no avail , to reach a profundity that it doesn't deserve . \\nvonnegut's original novel is considered a classic , but it had been called unfilmable--the same that was said of hunter s . thompson's _fear_and_loathing_in_las_vegas_ , which was disastrously committed to film last year by terry gilliam . \\nwith the similar failure of _breakfast_of_champions_ , will hollywood ever learn that books labeled \" unfilmable \" inevitably results in a film that is unwatchable ? \\nlikely not . \\n</td>\n",
       "      <td>0</td>\n",
       "    </tr>\n",
       "    <tr>\n",
       "      <th>64</th>\n",
       "      <td>cv810_12458.txt</td>\n",
       "      <td>when people are talking about good old times , they actually want to make some bad times look better . \\nnice example of such behaviour is contemporary attitude of popular media towards the 1970s . \\nfor new generations , superseventies are the lost golden age of chic fashion , cult tv shows and sexual freedom unchecked by aids . \\nfor people who actually had to live in that period , it was the gloomy decade , marked by lost ideals of 1968 , rampant inflation and unemployment , international terrorism , fuel crisis and loss of faith in almost anything that previous generation stood for . \\nfeelings of despair and nihilism found its reflections in many films of that era . \\nmartin scorsese's taxi driver , which symbolises both the glory and despair of the seventies , is most celebrated of them all . \\nthe movie's protagonist is travis bickle ( robert de niro ) , 26-year old former marine who takes the job of taxi driver in new york city because he can't sleep at nights . \\nthe job gets him exposed to the dark side of apocalyptic megalopolis , and travis gradually gets alienated from the rest of world . \\nthe only bright spot in his life is betsy ( cybil sheperd ) , attractive woman working in senator palantine's presidential campaign . \\ntheir date ends as humiliating fiasco because travis makes fatal mistake by inviting her to porno movie theatre . \\nlosing his only link to better side of the world , travis gradually descends into psychosis , becoming convinced that his mission in life is to battle scum on the street . \\nhe purchases a formidable arsenal of guns and begins physical preparations for the inevitable conflict . \\nthat conflict finally comes when he takes personal interest in iris ( jodie foster ) , 12-year old prostitute who temporarily took refuge in his taxi . \\nas many great movies that got cult status through the years , taxi driver became the object of many interpretations . \\nfor some critics and scholars it is an exploration of universal subjects that date back to dostoyevski - loss of moral compass in a bleak reality of dirty , overpopulated industrial cities ; the story could have been set in 19th century same as in our times . \\nfor others , the movie uses raskolnikov-like figure in order to portray burning problems of 1970s america - its apparent inability to deal with the consequences of rapid social changes that occurred in previous decade . \\nbrilliant performance of robert de niro in role of a lifetime can give arguments for both sides . \\nhis travis bickle has a lot in common with most of the average viewers of today - many of us share his feelings of isolation , loneliness and outrage towards crime , drugs , prostitution and senseless street violence . \\nhis pathetic attempts to establish some kind of human connection with the people around him , sometimes in most unusual circumstances - like with secret service agents , pimps or job interviewers - make him a person too goofy to be the hero , and too pathetic to be the classic villain . \\nhowever , most of the average viewers are sensible enough to recognise the tin line that separate concerned citizens or troubled souls from fanatical madmen . \\nbut despite anything , average viewer at the end actually cheers for travis - his crusade against \" scum \" is something that average person wants , but doesn't have a stomach/lack of brains to do it . \\nwhile de niro's travis might come in and out of particular times and places , other persons that appear in the film ( mostly played by the character actors ) give it distinctively 1970s feel . \\nwizzard ( played by peter boyle ) presents the only link with america's better past ; but only because he is the oldest taxi driver in company and therefore everybody assumes that he \" knows stuff \" . \\nhis obvious inadequacy in giving advice to troubled travis illustrates the inability of pre-1960s generations to find answers to the problems of gloomy decade . \\nother characters , on the other hand , show the bad side of new age . \\nmatthew \" sport \" ( keitel , who befriended real-life pimps in other to prepare for his role of a lifetime ) is dressed like a hippie ; iris found excuse for her escape to the world of drugs and child prostitution in a ideology of counterculture . \\nporno movies , that should be the element of new times of sexual freedom , are too much even for supposedly \" liberated \" betsy . \\neven the politicians , like senator palantine , are lost in post-vietnam and post-watergate mess ; his broad and senseless \" messages \" that cover the lack of any serious program can't fool even such idiots like travis . \\nthe past is gone , the present is bad , and even the future seems bleak , and the feeling of pessimism can't be washed away even by ironic happy end . \\ntravis and his world found themselves in a desperate situation , and martin scorsese uses the best of his cinematic skills in order to spill the gloom of schrader's screenplay into the silver screen . \\nnew york city in the night is portrayed as a hell on earth , and the red light and steam coming out of sewers give it surreal , almost stygian atmosphere . \\nanother important element of the atmosphere is score of great bernard herrman , whose efficient use of jazz elements gives some melancholy that softens the brutality of motion picture . \\none of the greatest ironies of taxi driver is the fact that the movie was , same as his protagonist , famous for the wrong reason . \\ninstead of receiving cult status because of his artistic merits , for many years it was tabloid-fodder because of hinckley and his real-life re-enactment of events in the movie . \\nnow , more than two decades later , when some other \" life imitating art \" incidents get more attention , we can finally enjoy taxi driver in all its artistic glory . \\n</td>\n",
       "      <td>1</td>\n",
       "    </tr>\n",
       "    <tr>\n",
       "      <th>981</th>\n",
       "      <td>cv855_22134.txt</td>\n",
       "      <td>vegas vacation is the fourth film starring chevy chase and beverly d'angelo as the heads of the hapless griswold family . \\nas with the other three films , their two children , rusty and audrey , are played by a revolving series of actors . \\nthis time ethan embry and marisol nichols fill the roles . \\nalso back , is cousin eddie ( randy quaid ) , the slob relative who seems to bring problems wherever he goes . \\nin vegas vacation clark griswold ( chase ) decides to take the family on vacation to las vegas so that he and wife ellen ( d'angelo ) can renew their wedding vows . \\nit is at this point when comedy is supposed to ensue . \\napparently the filmmakers thought that putting the griswolds into las vegas would be so funny on its own that they wouldn't bother to write any jokes into the script . \\nat least that's the way it looks when watching this turkey . \\nabout half way through vegas vacation i began to have serious doubts as to whether there would actually be a single laugh in the entire film , since there had been none up to that point . \\nby the end of the movie i had actually snickered a couple of times , and i had smiled at a couple of gags . \\ni might add that none of the funny ( and i use the term loosely ) moments came as a result of anything chase , d'angelo or quaid were involved in . \\nthey might as well have stayed home for as much as they contributed to this film . \\nthe two best things in this movie were ethan embry and marisol nichols as the griswold kids , who manage to have a couple of their own adventures . \\nrusty becomes a vegas high roller , providing most of the film's best moments . \\nevery time chase and quaid were involved in a gag , it just made it more and more apparent that they should have stopped this series after the third film . \\nwhich brings me to the best moment of the film . \\nthe griswolds are driving down the highway and holiday road ( the theme from the original vacation ) begins to play . \\nchristie brinkley and her red ferrari ( also from the first movie ) drive by . \\nit was a cute moment , but all it really did was remind me just how funny the first film had been , and just how far that this series has fallen . \\ntoo bad . \\n</td>\n",
       "      <td>0</td>\n",
       "    </tr>\n",
       "    <tr>\n",
       "      <th>175</th>\n",
       "      <td>cv909_9960.txt</td>\n",
       "      <td>gere , willis , poitier chase each other around the world \\nthe jackal a film review by michael redman copyright 1997 by michael redman \\nwhen the soviet union imploded , the western countries lost their shadow . \\nwith the united states friendly with the russians , we no longer had an entity to blame for the world's problems . \\nthis showed up in hollywood films as the communist government was no longer the easy bad guy . \\nit's time to rejoice because we've found our new villain . \\nnow it's no longer the russian government who sends killers out into foreign lands , it's the russian _mafia_ . \\na perfect solution , it combines the dread of organized crime and the still-present uneasiness with the former eastern block countries . \\nbest of all , the villains are still foreigners : fear of the other always plays best . \\nso it is a crime lord in moscow that sends legendary hitman the jackal ( bruce willis ) to assassinate a highly placed us government figure in retaliation for the death of his brother during a nightclub raid . \\nthe fbi is at a loss as to how to protect the target from someone they're not sure even exists . \\ncoming to their rescue is former ira operative declan mulqueen ( richard gere ) who is temporarily released from prison to assist fbi agent carter preston ( sidney poitier ) and russian major valentina koslova ( diane venora ) . \\nmulqueen's ex-girlfriend basque terrorist isabella ( mathilda may ) is the only person who has seen the elusive jackal . \\n ( presumably there is an exclusive international terrorist club somewhere where the three met . ) \\nthe film follows two parallel tracks as the jackal prepares for his $70 million hit and mulqueen attempts to locate him while preston makes sure that the irishman doesn't slip away . \\ncrossing numerous borders and donning various disguises for both himself and his mini-van , the killer is always one step ahead of his pursuers . \\nbeing very loosely based on the same book the 1973 thriller \" the day of the jackal \" , comparison between the two films is inevitable . \\nthere is no doubt that the original is the better movie , playing the story for suspense rather than the current action/adventure . \\nas a mystery , \" the jackal \" has enough holes in it to ruin the tale , but if you can accept it for what it is , there's entertainment to be had . \\nholes ? let's see ? a pivotal clue for mulqueen is so obscure that he must possess psychic powers to pick it up . \\nfor a 20-year veteran that can command the big bucks , the jackal is an incredibly poor shot . \\nthe final scene between gere and willis occurs in a location that should be mobbed with police , but it's just the two of them . \\nwillis' disguises usually look like bruce willis and are just as interesting as val kilmer's in \" the saint \" . \\n ( and lest you misunderstand , that's not a compliment . ) \\nbut the three stars are fun to watch . \\nit's good to see gere in something other than a business suit . \\nwillis has a mixed history in picking projects , but his characters are always watchable . \\npoitier is by far the superior actor , but has limited screen time . \\nthe problems in logic are flaws , but don't ruin the experience . \\noccasionally there are movies that transcend their blemishes . \\nthis is one of them . \\n[the appeared in the 11/20/97 \" bloomington voice \" , bloomington , indiana] \\n</td>\n",
       "      <td>1</td>\n",
       "    </tr>\n",
       "    <tr>\n",
       "      <th>855</th>\n",
       "      <td>cv209_28973.txt</td>\n",
       "      <td>\" i would appreciate it if you didn't do that again . \" \\nstarring jet li , bridget fonda , tch ? ky karyo , burt kwouk . \\ndirected by chris nahon . \\nrated r . \\nit's no secret that martial arts film often use their plot simply to get from one action sequence to another . \\nwhen the fight scenes are enough to justify paying admission , there is no problem with this , as in most jackie chan projects and a lot of the hong kong actioners . \\nwhen they aren't , well , we're in bad shape . \\nkiss of the dragon , jet li's second consecutive american misfire , plays like one big miscalculation , and fails even as the most rudimentary entertainment . \\nnow before i start getting e-mails angrily touting the genius of jet li , let me explain myself . \\nli is as spectacular as ever here , and i don't think anyone would ever dare call his martial-arts-star skills into question . \\nthe problem isn't with him , it's with the movie's tone . \\nthe much touted fight-scenes here are filmed with such unflinching , unrelenting brutality that they are unpleasant to watch . \\nthey're joyless , perfuctory ; li's rogue chinese detective is more of a killing machine than a hero , a terminator with a black belt instead of a metal skeleton . \\nbut even the terminator in judgement day had a sympathetic side . \\nthe plot isn't relevant , but if you're curious , it's some nonsense about a chinese law enforcement officer ( li ) sent to paris to investigate a possible drug ring and encounter a corrupt chief of police ( tcheky karyo ) , who kills people and does sinister things with no motivation whatsoever . \\noh yeah , and li's character is also an acupuncture expert who is able to ease pain and/or kill at the touch of a needle . \\n \" kiss of the dragon \" is the name of an acupuncture maneuver , in which you stick a needle in a precise location on the back of the victim's neck , somehow redirecting all of the body's bloodflow to the brain and killing the poor sap more or less immediately . \\nthere's a vague attempt to humanize li by having him fall in love with a downtrodden prostitute , whose daughter is being held hostage , for some reason , by the villain . \\nthis is one of the worst love stories i have ever seen on screen , even worse than the one in pearl harbor . \\nthere's no conviction whatsoever as the movie barely pays lip service to it ; it's only here because someone apparently thought there should be some kind of boy-meets-girl subplot . \\nkiss of the dragon was written by luc besson , whose screenplay the messenger : the story of joan of arc , for all of that film's flaws , was at least thoughtful . \\ni don't know why the guy got himself involved in this train wreck , but perhaps he wanted to so something more mainstream after the neverending weirdness of the fifth element and the aforementioned stylized biopic . \\ni suppose you could call this mainstream , but i'll choose the bizarre any time of the day . \\nif action scenes in a movie are going to be brutal instead of dazzling , you need a story to justify watching them . \\nthe filmmakers behind kiss of the dragon should have rethought their strategy . \\nno one will walk out of this misbegotten project smiling , but i hear rush hour 2 is coming in just a few weeks . \\n</td>\n",
       "      <td>0</td>\n",
       "    </tr>\n",
       "    <tr>\n",
       "      <th>263</th>\n",
       "      <td>cv003_12683.txt</td>\n",
       "      <td>\" quest for camelot \" is warner bros . ' first feature-length , fully-animated attempt to steal clout from disney's cartoon empire , but the mouse has no reason to be worried . \\nthe only other recent challenger to their throne was last fall's promising , if flawed , 20th century fox production \" anastasia , \" but disney's \" hercules , \" with its lively cast and colorful palate , had her beat hands-down when it came time to crown 1997's best piece of animation . \\nthis year , it's no contest , as \" quest for camelot \" is pretty much dead on arrival . \\neven the magic kingdom at its most mediocre -- that'd be \" pocahontas \" for those of you keeping score -- isn't nearly as dull as this . \\nthe story revolves around the adventures of free-spirited kayley ( voiced by jessalyn gilsig ) , the early-teen daughter of a belated knight from king arthur's round table . \\nkayley's only dream is to follow in her father's footsteps , and she gets her chance when evil warlord ruber ( gary oldman ) , an ex-round table member-gone-bad , steals arthur's magical sword excalibur and accidentally loses it in a dangerous , booby-trapped forest . \\nwith the help of hunky , blind timberland-dweller garrett ( carey elwes ) and a two-headed dragon ( eric idle and don rickles ) that's always arguing with itself , kayley just might be able to break the medieval sexist mold and prove her worth as a fighter on arthur's side . \\n \" quest for camelot \" is missing pure showmanship , an essential element if it's ever expected to climb to the high ranks of disney . \\nthere's nothing here that differentiates \" quest \" from something you'd see on any given saturday morning cartoon -- subpar animation , instantly forgettable songs , poorly-integrated computerized footage . \\n ( compare kayley and garrett's run-in with the angry ogre to herc's battle with the hydra . \\ni rest my case . ) \\neven the characters stink -- none of them are remotely interesting , so much that the film becomes a race to see which one can out-bland the others . \\nin the end , it's a tie -- they all win . \\nthat dragon's comedy shtick is awfully cloying , but at least it shows signs of a pulse . \\nat least fans of the early-'90s tgif television line-up will be thrilled to find jaleel \" urkel \" white and bronson \" balki \" pinchot sharing the same footage . \\na few scenes are nicely realized ( though i'm at a loss to recall enough to be specific ) , and the actors providing the voice talent are enthusiastic ( though most are paired up with singers who don't sound a thing like them for their big musical moments -- jane seymour and celine dion ? ? ? ) . \\nbut one must strain through too much of this mess to find the good . \\naside from the fact that children will probably be as bored watching this as adults , \" quest for camelot \" 's most grievous error is its complete lack of personality . \\nand personality , we learn from this mess , goes a very long way . \\n</td>\n",
       "      <td>0</td>\n",
       "    </tr>\n",
       "    <tr>\n",
       "      <th>421</th>\n",
       "      <td>cv116_28942.txt</td>\n",
       "      <td>capsule : a short punchy action sequel to the two dinosaur films made by steven spielberg . \\njoe johnston directs a straightforward story of an excursion back to the island of the dinosaurs . \\nit lets us see some new dinosaurs ( is that an oxymoron ? ) and gives us a nice and generally reasonably written adventure . \\nthe film is neither ambitious nor pretentious . \\ni had a good time . \\n , low +2 ( -4 to +4 ) \\nhere goes my credibility . \\nthis is a film on which i expect to be in a minority . \\ni liked the third jurassic park film . \\ni even liked the second jurassic park film . \\nin a lot of ways jurassic park : the lost world was a creative three-way braiding together of michael crichton's novel the lost world , arthur conan doyle's novel the lost world , and the classic silent film version of the doyle . \\njp2 was an adventure , as doyle said , \" for the boy who's half man or the man who's half boy . \" \\nthat is what all the jurassic park films are . \\nexpecting them to give the viewer insights into the human condition is like expecting your car to vacuum your house . \\nthe classic adventure films like gunga din or king solomon's mines had under-written characters also . \\njurassic park iii is an all out adventure on an island inhabited by dinosaurs . \\nthe characters are a little more complex than they at first appear to be , and even that is a little more complex than i was expecting . \\nsome of the characters who start out looking stupid and useless prove to be neither as the film proceeds . \\nthat degree of complexity combined with those very realistic looking dinosaur effects is just about as much as i require . \\ni feel i got my money's worth . \\nthe story opens with eric ( played by trevor morgan ) and friend parasailing near the forbidden island of isla sorna off costa rica . \\nthis was the research island where the dinosaurs were created for the now defunct jurassic park . \\nthey hope , no doubt , to get a look at the island's dinosaurs from a safe height . \\nthe height is safe , but driving the boat in the water is not . \\nthe two soon find themselves in trouble and have to ditch their parasail onto the island where they do indeed get a better look at the dinosaurs than they had intended . \\nflash to the united states and someone is offering to fund paleontologist alan grant ( sam neill ) in his research if he will go and fly over isla sorna and act as a guide . \\nhe has said that no force on earth or heaven could get him back near real dinosaurs . \\nbut again money convinces him to drop what he is doing and go . \\ndoing the convincing is a wealthy and eccentric couple ( william h . macy and tea leoni ) who has been just about everywhere else in the world and wants the adventure of seeing real dinosaurs . \\nthey too plan to see the island from a safe height grant is relieved to learn . \\nhe will fly over this island at a safe altitude just this once . \\nright . \\nguess what happens next ? \\njp3 probably functions better as a sequel than jp2 . \\nfirst it has alan grant and ellie sattler ( laura dern ) back rather than the much less appealing ian malcolm . \\nsattler has a much smaller part in jp3 , but is still present to tie this story to the first . \\ncuriously each film seems to arrange to have a signature scene with characters holding on to some large metal object that is about to fall some great distance . \\none thing that does not quite fit with the earlier films is just as grant discovers that raptors may be able to talk to each other , suddenly they seem to be doing it all the time . \\nthey did not appear to be conversing in the previous films . \\nof course , these raptors look a little different also , so perhaps they are a different related species . \\nnot only are they more intelligent than in the past films , they are also more sympathetic . \\nin this story they are not just killing machines , they have reasonable motives for what they do beyond nutrition . \\nthis time around they may be a little too anthropomorphized . \\neach new film in the series introduces us to some new dinosaurs , of course . \\nin this film a major threat is from a spinosaurus , not as common or as popularly known as a tyrannosaurus , but larger and presumably more nasty . \\nit has a crocodile's head and the body that looks like a dimetrodon walking upright . \\nperhaps as an economy measure or just to create a mood the visual effects team frequently obscures our view of the dinosaurs . \\nsometimes they just move too fast to see . \\noccasionally darkness or fog obscures our vision . \\na few times we get unconvincing matte shot , particularly of the laboratory . \\nbut there is less money on the screen in terms of dinosaur effects than in the two previous films . \\nthe musical score by don davis borrows heavily from john williams's score for the first film . \\njoe johnston , who directs , already has to his credit two very good films i recommend the rocketeer and october sky . \\na team including alexander payne and jim taylor known for election writes the screenplay . \\nthe film they have made is a long way from great cinema , but it still is fun . \\nif you get a thrill from seeing what look very much like live dinosaurs alive today , the film is for you . \\ni rate it a 7 on the 0 to 10 scale and a low +2 on the -4 to +4 scale . \\n</td>\n",
       "      <td>1</td>\n",
       "    </tr>\n",
       "    <tr>\n",
       "      <th>629</th>\n",
       "      <td>cv728_17931.txt</td>\n",
       "      <td>back in 1980s , chuck norris used to be synonym for the action films . \\nhe couldn't , of course , top the success and fame of big action names like sylvester stallone or arnold schwarzenegger , but sheer quantity of his films guaranteed that he was household name among shoot'em up and beat'em up genre aficionados . \\nthat quantity was mostly provided by cannon group , prolific production company that dominated the b-movie market in previous decade by flooding it with cheap , formulaic and , more often than not , unwatchable genre products . \\nthe hitman , 1991 action thriller directed by chuck's brother aaron , is one of the last among them . \\nchuck norris here plays seattle cop betrayed , shot and left for dead by his partner ( which shouldn't surprise anyone , considering the fact that the partner is being played by michael parks , specialised for roles of usually very mean characters ) . \\nsurviving the shooting , cop is pronounced dead and hired as deep undercover agent . \\nhe infiltrates the underworld circles in seattle and becomes their top hitman , using his abilities to start brutal war between three major crime organisations - italians , french canadians and iranians . \\nsince it is rather absurd to expect great acting ability from chuck norris , at least not in this kind of movie , the biggest attraction of this film should have been action . \\nwell , the action in this film falls flat - it is boring , repetitive and not at all exciting . \\nit is nothing more than monotonous series of scenes that contains violence too brutal even for this type of films . \\nwe know very little about norris' character while , on the other hand , gangsters are portrayed with more human dimension . \\nin the end we almost feel sorry for them , since they are shown totally powerless against norris and his unstoppable and bloody crusade . \\nduring the film , somebody obviously became aware of that problem , so the screenwriter introduced the subplot dealing with the black boy who gets adopted by norris . \\nthat caused another problem - any questions about nature of that relationship had to be quashed with another subplot - this one dealing with lady lawyer who sleeps with the hero and gets killed after fulfilling that screenplay obligation . \\nthe photography in this film is dark , setting is depressive and this forgettable piece of 1980s style cinema leaves viewers without any reason to justify the hour and half spent in watching it . \\n</td>\n",
       "      <td>0</td>\n",
       "    </tr>\n",
       "    <tr>\n",
       "      <th>340</th>\n",
       "      <td>cv725_10266.txt</td>\n",
       "      <td>the first scene of operation condor has jackie chan preparing for a secret mission . \\nhe attempts to pop a couple of pieces of chewing gum into his mouth , but misses . \\nafter they ricochet off his face , he says , \" not a good start . \" \\nas it turns out , this line not only gives foreshadowing to the opening sequence , but to the rest of the movie as well . \\nin this , the latest of the jackie chan movies to be released in america after first runs in hong kong , chan plays an international operative codenamed \" condor \" , and is tasked by the united nations with finding a stash of gold hidden at a secret base by the nazi's during their retreat across the saharan desert during the second world war . \\nfor some reason , condor is given his mission at the u . s . embassy in spain . \\ni think this may have been done so that in a chase scene , they could honor the time old tradition of knocking over a fruit cart . \\nwatch for it in any chase scene set in a foreign country , most notably in europe . \\nthe chase will take itself through a marketplace , and a fruit cart will be overturned . \\nit's almost a guarantee . \\nanyway . . . . \\ncondor is given a key which is supposed to unlock a giant vault in which the gold is hidden ; the problem is that the key has insulators integrated into it , which may mean a booby trap might be electronically triggered if the key is used improperly . \\nto help him figure out where the gold is hidden and how to use the key correctly , condor is accompanied by a desert expert ( carol cheng ) and the granddaughter of the captain who was in charge of hiding the gold ( eva cobo ) . \\nthere aren't supposed to be any relatives of the nazi captain living in spain , but condor finds the granddaughter by looking her up in the phone book or something . \\nalthough these two women are supposed to be integral parts of the mission , they prove no help at all except to get in trouble and provide an excuse for chan to jump into his martial arts . \\nin fact , most of the scenes are so ridiculously contrived that it seems everything is just a way to set up a fight . \\ni suppose this isn't so bad , since chan's action is really the best part of the movie , and the only reason you go to see one of his films anyway . \\nif you've never seen a jackie chan movie , don't expect a great plot , but do expect to be entertained by his moves . \\nthey are so well choreographed and often so amazing that you wonder if this guy is human . \\nknowing that he does his own stunts , and knowing that this is the real stuff ( no computer-masked bungee cords here ) makes the action sequences all the more exciting . \\nyou've got to hand it to a guy who's probably broken every bone in his body for the sake of his art . \\nalso of note in this , as in any jackie chan movie , is the humor . \\nas far as i know , none of his films take themselves too seriously , and even the dramatic parts have a certain tongue-in-cheek quality about them . \\nwhat is almost masterful is the way that humor is even integrated into the fight scenes . \\nunlike a martial arts film such as anything with jean claude van damme , where the fights get you on the visceral level , fight scenes in chan's movies are simply entertaining . \\nyou marvel at both his moves and at the way he employs them in such a way to make you laugh . \\nunfortunately , even chan's mastery can't save this film . \\nthe plot and characters are so weak that they don't hold the movie together at all , and the acting is terrible . \\ncarol cheng has apparently won best actress honors at the hong kong movie awards in the past , but since operation condor is a dubbed movie it kind of takes all bets off . \\nthis , combined with an obviously low production value made we want to turn away from the screen until i heard those kicks start flying . \\n</td>\n",
       "      <td>0</td>\n",
       "    </tr>\n",
       "    <tr>\n",
       "      <th>392</th>\n",
       "      <td>cv259_10934.txt</td>\n",
       "      <td>richard linklater's \" slacker , \" made in 1991 for a budget of only $23 , 000 , immerses itself in the twentysomething , college-town culture of austin , texas . \\nmost of these characters are either unemployed or work jobs that are apparently too menial to be worth mentioning . \\ntheir lifestyle is a sort of passive resistance to the idea that people should go out and actively pursue a career after graduation ; they seem content to sit around spouting off about the inadequacy of american democracy , the pervasiveness of slave morality , the subtle messages in pop culture , and such . \\nask them what they've been doing lately , and they'll more likely than not reply , \" oh , you know , just hanging out . \" \\nlinklater uses an interesting technique to examine these characters : the camera follows one person for a few minutes , then someone else walks by and the camera follows that person , who walks into a diner just as another person is walking out the door . \\n . \\n . \\n . \\nit's certainly a lot of fun listening to these characters talk : some of them are clearly very intelligent and have some genuinely insightful ideas , some of them are just plain weird , and some of them think their ideas are a lot more profound than they really are . \\nthe opening monologue , delivered by linklater himself to a taxi driver , tosses around ideas about alternate realities that nicely set up the meandering structure of the film . \\nother characters along the way offer observations about everything from dating relationships to the history of anarchist philosophy , while groups of pseudo-intellectuals kick around ideas about the nobility of sitting around and doing nothing or the subtle bribery-based morality in \" scooby-doo . \" \\nfor the most part , however , the best moments are the ones involving the slightly unhinged types . \\nnear the beginning , a paranoid man follows a pedestrian for several blocks , warning him about government conspiracies involving everything from global warming to secret colonization of mars . \\nanother man seems to be collecting televisions , keeping at least fifteen sets running at the same time and playing tapes of a graduate student who recorded himself having a nervous breakdown and destroying the camera . \\nand in a scene that drew a big laugh from everyone present when i saw the film , a man tries to achieve closure after a failed relationship by reciting poetry on a bridge and then throwing a typewriter into the creek below . \\nthe only problem with \" slacker \" is that it starts to run out of steam towards the end . \\nsince linklater only spends a few minutes with each character , the introduction of the new characters gets repetitive after a while . \\nthere are only so many times you can hear , \" hey , what's going on ? \" \\n \" not much , what are you up to ? \" \\n \" nothing really , just hanging around , \" before it gets on your nerves ; the film might well have benefited from a slightly slower pace and a little bit more characterization . \\nand the dialogue in the second half of the film is by and large not quite as interesting as that in the first half ; a jfk buff , for example , seems like a pale imitation of the previous conspiracy theorist , and many of the characters just generally aren't as weird or unique . \\ninstead of depicting a city populated by mostly normal people and then showing us the strangeness that we might not have noticed at first , linklater shows us the oddballs first , then stops and reminds us that ordinary people live there too . \\n \" slacker \" is a good film and a wonderfully offbeat and entertaining comedy , whatever its flaws , and its status as a cult classic is well-deserved . \\ni just can't help but think it might have been even better if linklater had slowed down a little bit and filmed these scenes in reverse order . \\n</td>\n",
       "      <td>1</td>\n",
       "    </tr>\n",
       "  </tbody>\n",
       "</table>\n",
       "</div>"
      ],
      "text/plain": [
       "                file  \\\n",
       "791  cv590_20712.txt   \n",
       "64   cv810_12458.txt   \n",
       "981  cv855_22134.txt   \n",
       "175   cv909_9960.txt   \n",
       "855  cv209_28973.txt   \n",
       "263  cv003_12683.txt   \n",
       "421  cv116_28942.txt   \n",
       "629  cv728_17931.txt   \n",
       "340  cv725_10266.txt   \n",
       "392  cv259_10934.txt   \n",
       "\n",
       "                                                                                                                                                                                                                                                                                                                                                                                                                                                                                                                                                                                                                                                                                                                                                                                                                                                                                                                                                                                                                                                                                                                                                                                                                                                                                                                                                                                                                                                                                                                                                                                                                                                                                                                                                                                                                                                                                                                                                                                                                                                                                                                                                                                                                                                                                                                                                                                                                                                                                                                                                                                                                                                                                                                                                                                                                                                                                                                                                                                                                                                                                                                                                                                                                                                                                                                                                                                                                                                                                                                                                                                                                                                                                                                                                                                                                                                                                                                                                                                                                                                                                                                                                                                                                                                                                                                                                                                                                                                                                                                                                                                                                                                                                                                                                                                                                                                                                                                                                                                                                                                                                                                                                                                                                                                                                                                                                                                                                                                                                                                                                                                                                                                                                                                                                                                                                                                                                                                                                                                                                                                    text  \\\n",
       "791                                                                                                                                                                                                                                                                                                                                                                                                                                                                                                                                                                                                                                                                                                                                                                                                                                                                                                                                                                                                                                                                                                                                                                                                                                                                                                                                                                                                                                                                                                                                                                                                                                                                                                      if you're debating whether or not to see _breakfast_of_champions_ , ask yourself one simple question : do you want to see nick nolte in lingerie ? \\nthe only people who would get much enjoyment from alan rudolph's chaotic adaptation of the kurt vonnegut novel is the cross-section of the population with the unhealthy urge to see that unpleasant sight . \\neveryone else--and i'm hoping that's most people--would be wise to steer clear of this excrutiatingly unfunny mess . \\nactually , though , the sight of nolte in high heels is one of the more amusing things about this muddle , which focuses dwayne hoover ( bruce willis ) , the owner of dwayne hoover's exit 11 motor village in midland city . \\nnot only is he a huge success as a businessman , he's also something of a celebrity , his face made recognizable by an ongoing series of television commercials . \\nwith a nice home and family to boot , dwayne appears to have it all the ingredients to be happy--yet he's not . \\nhis wife celia ( barbara hershey ) is perpetually in a pill-induced haze ; his son george ( lukas haas ) is a flamboyant lounge singer who goes by the stage name \" bunny . \" \\nnot only that , the environmental protection agency is on dwayne's ass over a building development project . \\nit's enough to send dwayne on a nervous breakdown--that is , if he doesn't succeed in blowing his brains out first . \\nmeanwhile , midland city is about to host a fine arts festival , and the guest of honor is one kilgore trout ( albert finney ) , a writer who is far from the renowned author the festival's organizer ( buck henry ) was led to believe--in fact , he's a penniless hack who writes second-rate sci-fi that appears in porn magazines . \\nhis trek to midland city is also a spiritual journey , one that reaches its apex after meeting dwayne , who for some reason thinks that trout will hold for him all of life's answers . \\nthe above is already a longer plot synopsis than i usually give in my reviews , but , ironically , i have barely scratched the surface . \\ni haven't yet mentioned wayne hoobler ( omar epps ) , an ex-con with an obsessive admiration for the similarly-named dwayne . \\nthen there's the matter of francine ( glenne headly ) , dwayne's devoted secretary . \\nnot to mention dwayne's employee and old friend harry lesabre ( nolte ) , the one with the secret penchant for cross-dressing . \\nand so on . \\nthe film is essentially dwayne's story , but too often rudolph goes on distracting tangents with the eccentric peripheral players that one often wonders what the point is . \\nrudolph does arrive at a point ( more on that later ) , but it's blunted and obscured by his hyperactive approach to the material . \\nthe surreal visual style , complete with printed words flying through the air and into dwayne's ears , is obviously meant to convey a sense of madness , but its bludgeoning nature is likely to make viewers mad . \\nthe actors are called on to act accordingly , resulting in some of the worst , most overdone work all of them have ever turned in . \\nwillis fares best of all--but that's because his frozen expression of befuddled bewilderment mirrors that of the audience . \\nwith such an aggressively outrageous atmosphere for nearly all of its running time , it comes as a shock when things suddenly turn serious , and rudolph tries to make a statement . \\nunlike _american_beauty_ ( a film that _breakfast_ resembles in more than a few ways , to its great detriment ) , there isn't any palpably earnest undercurrent that would prepare the audience for the big shift . \\nas such , the cartoony characters fail to win a sympathy that needs to be earned ; and the film attempts , to no avail , to reach a profundity that it doesn't deserve . \\nvonnegut's original novel is considered a classic , but it had been called unfilmable--the same that was said of hunter s . thompson's _fear_and_loathing_in_las_vegas_ , which was disastrously committed to film last year by terry gilliam . \\nwith the similar failure of _breakfast_of_champions_ , will hollywood ever learn that books labeled \" unfilmable \" inevitably results in a film that is unwatchable ? \\nlikely not . \\n   \n",
       "64   when people are talking about good old times , they actually want to make some bad times look better . \\nnice example of such behaviour is contemporary attitude of popular media towards the 1970s . \\nfor new generations , superseventies are the lost golden age of chic fashion , cult tv shows and sexual freedom unchecked by aids . \\nfor people who actually had to live in that period , it was the gloomy decade , marked by lost ideals of 1968 , rampant inflation and unemployment , international terrorism , fuel crisis and loss of faith in almost anything that previous generation stood for . \\nfeelings of despair and nihilism found its reflections in many films of that era . \\nmartin scorsese's taxi driver , which symbolises both the glory and despair of the seventies , is most celebrated of them all . \\nthe movie's protagonist is travis bickle ( robert de niro ) , 26-year old former marine who takes the job of taxi driver in new york city because he can't sleep at nights . \\nthe job gets him exposed to the dark side of apocalyptic megalopolis , and travis gradually gets alienated from the rest of world . \\nthe only bright spot in his life is betsy ( cybil sheperd ) , attractive woman working in senator palantine's presidential campaign . \\ntheir date ends as humiliating fiasco because travis makes fatal mistake by inviting her to porno movie theatre . \\nlosing his only link to better side of the world , travis gradually descends into psychosis , becoming convinced that his mission in life is to battle scum on the street . \\nhe purchases a formidable arsenal of guns and begins physical preparations for the inevitable conflict . \\nthat conflict finally comes when he takes personal interest in iris ( jodie foster ) , 12-year old prostitute who temporarily took refuge in his taxi . \\nas many great movies that got cult status through the years , taxi driver became the object of many interpretations . \\nfor some critics and scholars it is an exploration of universal subjects that date back to dostoyevski - loss of moral compass in a bleak reality of dirty , overpopulated industrial cities ; the story could have been set in 19th century same as in our times . \\nfor others , the movie uses raskolnikov-like figure in order to portray burning problems of 1970s america - its apparent inability to deal with the consequences of rapid social changes that occurred in previous decade . \\nbrilliant performance of robert de niro in role of a lifetime can give arguments for both sides . \\nhis travis bickle has a lot in common with most of the average viewers of today - many of us share his feelings of isolation , loneliness and outrage towards crime , drugs , prostitution and senseless street violence . \\nhis pathetic attempts to establish some kind of human connection with the people around him , sometimes in most unusual circumstances - like with secret service agents , pimps or job interviewers - make him a person too goofy to be the hero , and too pathetic to be the classic villain . \\nhowever , most of the average viewers are sensible enough to recognise the tin line that separate concerned citizens or troubled souls from fanatical madmen . \\nbut despite anything , average viewer at the end actually cheers for travis - his crusade against \" scum \" is something that average person wants , but doesn't have a stomach/lack of brains to do it . \\nwhile de niro's travis might come in and out of particular times and places , other persons that appear in the film ( mostly played by the character actors ) give it distinctively 1970s feel . \\nwizzard ( played by peter boyle ) presents the only link with america's better past ; but only because he is the oldest taxi driver in company and therefore everybody assumes that he \" knows stuff \" . \\nhis obvious inadequacy in giving advice to troubled travis illustrates the inability of pre-1960s generations to find answers to the problems of gloomy decade . \\nother characters , on the other hand , show the bad side of new age . \\nmatthew \" sport \" ( keitel , who befriended real-life pimps in other to prepare for his role of a lifetime ) is dressed like a hippie ; iris found excuse for her escape to the world of drugs and child prostitution in a ideology of counterculture . \\nporno movies , that should be the element of new times of sexual freedom , are too much even for supposedly \" liberated \" betsy . \\neven the politicians , like senator palantine , are lost in post-vietnam and post-watergate mess ; his broad and senseless \" messages \" that cover the lack of any serious program can't fool even such idiots like travis . \\nthe past is gone , the present is bad , and even the future seems bleak , and the feeling of pessimism can't be washed away even by ironic happy end . \\ntravis and his world found themselves in a desperate situation , and martin scorsese uses the best of his cinematic skills in order to spill the gloom of schrader's screenplay into the silver screen . \\nnew york city in the night is portrayed as a hell on earth , and the red light and steam coming out of sewers give it surreal , almost stygian atmosphere . \\nanother important element of the atmosphere is score of great bernard herrman , whose efficient use of jazz elements gives some melancholy that softens the brutality of motion picture . \\none of the greatest ironies of taxi driver is the fact that the movie was , same as his protagonist , famous for the wrong reason . \\ninstead of receiving cult status because of his artistic merits , for many years it was tabloid-fodder because of hinckley and his real-life re-enactment of events in the movie . \\nnow , more than two decades later , when some other \" life imitating art \" incidents get more attention , we can finally enjoy taxi driver in all its artistic glory . \\n   \n",
       "981                                                                                                                                                                                                                                                                                                                                                                                                                                                                                                                                                                                                                                                                                                                                                                                                                                                                                                                                                                                                                                                                                                                                                                                                                                                                                                                                                                                                                                                                                                                                                                                                                                                                                                                                                                                                                                                                                                                                                                                                                                                                                                                                                                                                                                                                                                                                                                                                                                                                                                                                                                                                                                                                                                                                                                                                                                                                                                                                                                                                                                                                                                                                                                                                                                                                                                                                                                                                                                                                                                                                                                                                                                                                                                                                                 vegas vacation is the fourth film starring chevy chase and beverly d'angelo as the heads of the hapless griswold family . \\nas with the other three films , their two children , rusty and audrey , are played by a revolving series of actors . \\nthis time ethan embry and marisol nichols fill the roles . \\nalso back , is cousin eddie ( randy quaid ) , the slob relative who seems to bring problems wherever he goes . \\nin vegas vacation clark griswold ( chase ) decides to take the family on vacation to las vegas so that he and wife ellen ( d'angelo ) can renew their wedding vows . \\nit is at this point when comedy is supposed to ensue . \\napparently the filmmakers thought that putting the griswolds into las vegas would be so funny on its own that they wouldn't bother to write any jokes into the script . \\nat least that's the way it looks when watching this turkey . \\nabout half way through vegas vacation i began to have serious doubts as to whether there would actually be a single laugh in the entire film , since there had been none up to that point . \\nby the end of the movie i had actually snickered a couple of times , and i had smiled at a couple of gags . \\ni might add that none of the funny ( and i use the term loosely ) moments came as a result of anything chase , d'angelo or quaid were involved in . \\nthey might as well have stayed home for as much as they contributed to this film . \\nthe two best things in this movie were ethan embry and marisol nichols as the griswold kids , who manage to have a couple of their own adventures . \\nrusty becomes a vegas high roller , providing most of the film's best moments . \\nevery time chase and quaid were involved in a gag , it just made it more and more apparent that they should have stopped this series after the third film . \\nwhich brings me to the best moment of the film . \\nthe griswolds are driving down the highway and holiday road ( the theme from the original vacation ) begins to play . \\nchristie brinkley and her red ferrari ( also from the first movie ) drive by . \\nit was a cute moment , but all it really did was remind me just how funny the first film had been , and just how far that this series has fallen . \\ntoo bad . \\n   \n",
       "175                                                                                                                                                                                                                                                                                                                                                                                                                                                                                                                                                                                                                                                                                                                                                                                                                                                                                                                                                                                                                                                                                                                                                                                                                                                                                                                                                                                                                                                                                                                                                                                                                                                                                                                                                                                                                                                                                                                                                                                                                                                                                                                                                                                                                                                                                                                                                                                                                                                                                                                               gere , willis , poitier chase each other around the world \\nthe jackal a film review by michael redman copyright 1997 by michael redman \\nwhen the soviet union imploded , the western countries lost their shadow . \\nwith the united states friendly with the russians , we no longer had an entity to blame for the world's problems . \\nthis showed up in hollywood films as the communist government was no longer the easy bad guy . \\nit's time to rejoice because we've found our new villain . \\nnow it's no longer the russian government who sends killers out into foreign lands , it's the russian _mafia_ . \\na perfect solution , it combines the dread of organized crime and the still-present uneasiness with the former eastern block countries . \\nbest of all , the villains are still foreigners : fear of the other always plays best . \\nso it is a crime lord in moscow that sends legendary hitman the jackal ( bruce willis ) to assassinate a highly placed us government figure in retaliation for the death of his brother during a nightclub raid . \\nthe fbi is at a loss as to how to protect the target from someone they're not sure even exists . \\ncoming to their rescue is former ira operative declan mulqueen ( richard gere ) who is temporarily released from prison to assist fbi agent carter preston ( sidney poitier ) and russian major valentina koslova ( diane venora ) . \\nmulqueen's ex-girlfriend basque terrorist isabella ( mathilda may ) is the only person who has seen the elusive jackal . \\n ( presumably there is an exclusive international terrorist club somewhere where the three met . ) \\nthe film follows two parallel tracks as the jackal prepares for his $70 million hit and mulqueen attempts to locate him while preston makes sure that the irishman doesn't slip away . \\ncrossing numerous borders and donning various disguises for both himself and his mini-van , the killer is always one step ahead of his pursuers . \\nbeing very loosely based on the same book the 1973 thriller \" the day of the jackal \" , comparison between the two films is inevitable . \\nthere is no doubt that the original is the better movie , playing the story for suspense rather than the current action/adventure . \\nas a mystery , \" the jackal \" has enough holes in it to ruin the tale , but if you can accept it for what it is , there's entertainment to be had . \\nholes ? let's see ? a pivotal clue for mulqueen is so obscure that he must possess psychic powers to pick it up . \\nfor a 20-year veteran that can command the big bucks , the jackal is an incredibly poor shot . \\nthe final scene between gere and willis occurs in a location that should be mobbed with police , but it's just the two of them . \\nwillis' disguises usually look like bruce willis and are just as interesting as val kilmer's in \" the saint \" . \\n ( and lest you misunderstand , that's not a compliment . ) \\nbut the three stars are fun to watch . \\nit's good to see gere in something other than a business suit . \\nwillis has a mixed history in picking projects , but his characters are always watchable . \\npoitier is by far the superior actor , but has limited screen time . \\nthe problems in logic are flaws , but don't ruin the experience . \\noccasionally there are movies that transcend their blemishes . \\nthis is one of them . \\n[the appeared in the 11/20/97 \" bloomington voice \" , bloomington , indiana] \\n   \n",
       "855                                                                                                                                                                                                                                                                                                                                                                                                                                                                                                                                                                                                                                                                                                                                                                                                                                                                                                                                                                                                                                                                                                                                                                                                                                                                                                                                                                                                                                                                                                                                                                                                                                                                                                                                                                                                                                                                                                                                                                                                                                                                                                                                                                                                                                                                                                                                                                                                                                                                                                                                                                                                                                                      \" i would appreciate it if you didn't do that again . \" \\nstarring jet li , bridget fonda , tch ? ky karyo , burt kwouk . \\ndirected by chris nahon . \\nrated r . \\nit's no secret that martial arts film often use their plot simply to get from one action sequence to another . \\nwhen the fight scenes are enough to justify paying admission , there is no problem with this , as in most jackie chan projects and a lot of the hong kong actioners . \\nwhen they aren't , well , we're in bad shape . \\nkiss of the dragon , jet li's second consecutive american misfire , plays like one big miscalculation , and fails even as the most rudimentary entertainment . \\nnow before i start getting e-mails angrily touting the genius of jet li , let me explain myself . \\nli is as spectacular as ever here , and i don't think anyone would ever dare call his martial-arts-star skills into question . \\nthe problem isn't with him , it's with the movie's tone . \\nthe much touted fight-scenes here are filmed with such unflinching , unrelenting brutality that they are unpleasant to watch . \\nthey're joyless , perfuctory ; li's rogue chinese detective is more of a killing machine than a hero , a terminator with a black belt instead of a metal skeleton . \\nbut even the terminator in judgement day had a sympathetic side . \\nthe plot isn't relevant , but if you're curious , it's some nonsense about a chinese law enforcement officer ( li ) sent to paris to investigate a possible drug ring and encounter a corrupt chief of police ( tcheky karyo ) , who kills people and does sinister things with no motivation whatsoever . \\noh yeah , and li's character is also an acupuncture expert who is able to ease pain and/or kill at the touch of a needle . \\n \" kiss of the dragon \" is the name of an acupuncture maneuver , in which you stick a needle in a precise location on the back of the victim's neck , somehow redirecting all of the body's bloodflow to the brain and killing the poor sap more or less immediately . \\nthere's a vague attempt to humanize li by having him fall in love with a downtrodden prostitute , whose daughter is being held hostage , for some reason , by the villain . \\nthis is one of the worst love stories i have ever seen on screen , even worse than the one in pearl harbor . \\nthere's no conviction whatsoever as the movie barely pays lip service to it ; it's only here because someone apparently thought there should be some kind of boy-meets-girl subplot . \\nkiss of the dragon was written by luc besson , whose screenplay the messenger : the story of joan of arc , for all of that film's flaws , was at least thoughtful . \\ni don't know why the guy got himself involved in this train wreck , but perhaps he wanted to so something more mainstream after the neverending weirdness of the fifth element and the aforementioned stylized biopic . \\ni suppose you could call this mainstream , but i'll choose the bizarre any time of the day . \\nif action scenes in a movie are going to be brutal instead of dazzling , you need a story to justify watching them . \\nthe filmmakers behind kiss of the dragon should have rethought their strategy . \\nno one will walk out of this misbegotten project smiling , but i hear rush hour 2 is coming in just a few weeks . \\n   \n",
       "263                                                                                                                                                                                                                                                                                                                                                                                                                                                                                                                                                                                                                                                                                                                                                                                                                                                                                                                                                                                                                                                                                                                                                                                                                                                                                                                                                                                                                                                                                                                                                                                                                                                                                                                                                                                                                                                                                                                                                                                                                                                                                                                                                                                                                                                                                                                                                                                                                                                                                                                                                                                                                                                                                                                                                                                                                                                                                                                                                                                  \" quest for camelot \" is warner bros . ' first feature-length , fully-animated attempt to steal clout from disney's cartoon empire , but the mouse has no reason to be worried . \\nthe only other recent challenger to their throne was last fall's promising , if flawed , 20th century fox production \" anastasia , \" but disney's \" hercules , \" with its lively cast and colorful palate , had her beat hands-down when it came time to crown 1997's best piece of animation . \\nthis year , it's no contest , as \" quest for camelot \" is pretty much dead on arrival . \\neven the magic kingdom at its most mediocre -- that'd be \" pocahontas \" for those of you keeping score -- isn't nearly as dull as this . \\nthe story revolves around the adventures of free-spirited kayley ( voiced by jessalyn gilsig ) , the early-teen daughter of a belated knight from king arthur's round table . \\nkayley's only dream is to follow in her father's footsteps , and she gets her chance when evil warlord ruber ( gary oldman ) , an ex-round table member-gone-bad , steals arthur's magical sword excalibur and accidentally loses it in a dangerous , booby-trapped forest . \\nwith the help of hunky , blind timberland-dweller garrett ( carey elwes ) and a two-headed dragon ( eric idle and don rickles ) that's always arguing with itself , kayley just might be able to break the medieval sexist mold and prove her worth as a fighter on arthur's side . \\n \" quest for camelot \" is missing pure showmanship , an essential element if it's ever expected to climb to the high ranks of disney . \\nthere's nothing here that differentiates \" quest \" from something you'd see on any given saturday morning cartoon -- subpar animation , instantly forgettable songs , poorly-integrated computerized footage . \\n ( compare kayley and garrett's run-in with the angry ogre to herc's battle with the hydra . \\ni rest my case . ) \\neven the characters stink -- none of them are remotely interesting , so much that the film becomes a race to see which one can out-bland the others . \\nin the end , it's a tie -- they all win . \\nthat dragon's comedy shtick is awfully cloying , but at least it shows signs of a pulse . \\nat least fans of the early-'90s tgif television line-up will be thrilled to find jaleel \" urkel \" white and bronson \" balki \" pinchot sharing the same footage . \\na few scenes are nicely realized ( though i'm at a loss to recall enough to be specific ) , and the actors providing the voice talent are enthusiastic ( though most are paired up with singers who don't sound a thing like them for their big musical moments -- jane seymour and celine dion ? ? ? ) . \\nbut one must strain through too much of this mess to find the good . \\naside from the fact that children will probably be as bored watching this as adults , \" quest for camelot \" 's most grievous error is its complete lack of personality . \\nand personality , we learn from this mess , goes a very long way . \\n   \n",
       "421                                                                                                                                                                                                                                                                                                                                                                                                                                                                                                     capsule : a short punchy action sequel to the two dinosaur films made by steven spielberg . \\njoe johnston directs a straightforward story of an excursion back to the island of the dinosaurs . \\nit lets us see some new dinosaurs ( is that an oxymoron ? ) and gives us a nice and generally reasonably written adventure . \\nthe film is neither ambitious nor pretentious . \\ni had a good time . \\n , low +2 ( -4 to +4 ) \\nhere goes my credibility . \\nthis is a film on which i expect to be in a minority . \\ni liked the third jurassic park film . \\ni even liked the second jurassic park film . \\nin a lot of ways jurassic park : the lost world was a creative three-way braiding together of michael crichton's novel the lost world , arthur conan doyle's novel the lost world , and the classic silent film version of the doyle . \\njp2 was an adventure , as doyle said , \" for the boy who's half man or the man who's half boy . \" \\nthat is what all the jurassic park films are . \\nexpecting them to give the viewer insights into the human condition is like expecting your car to vacuum your house . \\nthe classic adventure films like gunga din or king solomon's mines had under-written characters also . \\njurassic park iii is an all out adventure on an island inhabited by dinosaurs . \\nthe characters are a little more complex than they at first appear to be , and even that is a little more complex than i was expecting . \\nsome of the characters who start out looking stupid and useless prove to be neither as the film proceeds . \\nthat degree of complexity combined with those very realistic looking dinosaur effects is just about as much as i require . \\ni feel i got my money's worth . \\nthe story opens with eric ( played by trevor morgan ) and friend parasailing near the forbidden island of isla sorna off costa rica . \\nthis was the research island where the dinosaurs were created for the now defunct jurassic park . \\nthey hope , no doubt , to get a look at the island's dinosaurs from a safe height . \\nthe height is safe , but driving the boat in the water is not . \\nthe two soon find themselves in trouble and have to ditch their parasail onto the island where they do indeed get a better look at the dinosaurs than they had intended . \\nflash to the united states and someone is offering to fund paleontologist alan grant ( sam neill ) in his research if he will go and fly over isla sorna and act as a guide . \\nhe has said that no force on earth or heaven could get him back near real dinosaurs . \\nbut again money convinces him to drop what he is doing and go . \\ndoing the convincing is a wealthy and eccentric couple ( william h . macy and tea leoni ) who has been just about everywhere else in the world and wants the adventure of seeing real dinosaurs . \\nthey too plan to see the island from a safe height grant is relieved to learn . \\nhe will fly over this island at a safe altitude just this once . \\nright . \\nguess what happens next ? \\njp3 probably functions better as a sequel than jp2 . \\nfirst it has alan grant and ellie sattler ( laura dern ) back rather than the much less appealing ian malcolm . \\nsattler has a much smaller part in jp3 , but is still present to tie this story to the first . \\ncuriously each film seems to arrange to have a signature scene with characters holding on to some large metal object that is about to fall some great distance . \\none thing that does not quite fit with the earlier films is just as grant discovers that raptors may be able to talk to each other , suddenly they seem to be doing it all the time . \\nthey did not appear to be conversing in the previous films . \\nof course , these raptors look a little different also , so perhaps they are a different related species . \\nnot only are they more intelligent than in the past films , they are also more sympathetic . \\nin this story they are not just killing machines , they have reasonable motives for what they do beyond nutrition . \\nthis time around they may be a little too anthropomorphized . \\neach new film in the series introduces us to some new dinosaurs , of course . \\nin this film a major threat is from a spinosaurus , not as common or as popularly known as a tyrannosaurus , but larger and presumably more nasty . \\nit has a crocodile's head and the body that looks like a dimetrodon walking upright . \\nperhaps as an economy measure or just to create a mood the visual effects team frequently obscures our view of the dinosaurs . \\nsometimes they just move too fast to see . \\noccasionally darkness or fog obscures our vision . \\na few times we get unconvincing matte shot , particularly of the laboratory . \\nbut there is less money on the screen in terms of dinosaur effects than in the two previous films . \\nthe musical score by don davis borrows heavily from john williams's score for the first film . \\njoe johnston , who directs , already has to his credit two very good films i recommend the rocketeer and october sky . \\na team including alexander payne and jim taylor known for election writes the screenplay . \\nthe film they have made is a long way from great cinema , but it still is fun . \\nif you get a thrill from seeing what look very much like live dinosaurs alive today , the film is for you . \\ni rate it a 7 on the 0 to 10 scale and a low +2 on the -4 to +4 scale . \\n   \n",
       "629                                                                                                                                                                                                                                                                                                                                                                                                                                                                                                                                                                                                                                                                                                                                                                                                                                                                                                                                                                                                                                                                                                                                                                                                                                                                                                                                                                                                                                                                                                                                                                                                                                                                                                                                                                                                                                                                                                                                                                                                                                                                                                                                                                                                                                                                                                                                                                                                                                                                                                                                                                                                                                                                                                                                                                                                                                                                                                                                                                                                                                                                                                                                                                                                                                                                                                                                                                                                                                                                              back in 1980s , chuck norris used to be synonym for the action films . \\nhe couldn't , of course , top the success and fame of big action names like sylvester stallone or arnold schwarzenegger , but sheer quantity of his films guaranteed that he was household name among shoot'em up and beat'em up genre aficionados . \\nthat quantity was mostly provided by cannon group , prolific production company that dominated the b-movie market in previous decade by flooding it with cheap , formulaic and , more often than not , unwatchable genre products . \\nthe hitman , 1991 action thriller directed by chuck's brother aaron , is one of the last among them . \\nchuck norris here plays seattle cop betrayed , shot and left for dead by his partner ( which shouldn't surprise anyone , considering the fact that the partner is being played by michael parks , specialised for roles of usually very mean characters ) . \\nsurviving the shooting , cop is pronounced dead and hired as deep undercover agent . \\nhe infiltrates the underworld circles in seattle and becomes their top hitman , using his abilities to start brutal war between three major crime organisations - italians , french canadians and iranians . \\nsince it is rather absurd to expect great acting ability from chuck norris , at least not in this kind of movie , the biggest attraction of this film should have been action . \\nwell , the action in this film falls flat - it is boring , repetitive and not at all exciting . \\nit is nothing more than monotonous series of scenes that contains violence too brutal even for this type of films . \\nwe know very little about norris' character while , on the other hand , gangsters are portrayed with more human dimension . \\nin the end we almost feel sorry for them , since they are shown totally powerless against norris and his unstoppable and bloody crusade . \\nduring the film , somebody obviously became aware of that problem , so the screenwriter introduced the subplot dealing with the black boy who gets adopted by norris . \\nthat caused another problem - any questions about nature of that relationship had to be quashed with another subplot - this one dealing with lady lawyer who sleeps with the hero and gets killed after fulfilling that screenplay obligation . \\nthe photography in this film is dark , setting is depressive and this forgettable piece of 1980s style cinema leaves viewers without any reason to justify the hour and half spent in watching it . \\n   \n",
       "340                                                                                                                                                                                                                                                                                                                                                                                                                                                                                                                                                                                                                                                                                                                                                                                                                                                                                                                                                                                                                                                                                                                                                                                                                                                                                                                                                                                                                                                                                                                                                                                                                                                                                                                                                                                                                                                                                                                                                                                                                                                         the first scene of operation condor has jackie chan preparing for a secret mission . \\nhe attempts to pop a couple of pieces of chewing gum into his mouth , but misses . \\nafter they ricochet off his face , he says , \" not a good start . \" \\nas it turns out , this line not only gives foreshadowing to the opening sequence , but to the rest of the movie as well . \\nin this , the latest of the jackie chan movies to be released in america after first runs in hong kong , chan plays an international operative codenamed \" condor \" , and is tasked by the united nations with finding a stash of gold hidden at a secret base by the nazi's during their retreat across the saharan desert during the second world war . \\nfor some reason , condor is given his mission at the u . s . embassy in spain . \\ni think this may have been done so that in a chase scene , they could honor the time old tradition of knocking over a fruit cart . \\nwatch for it in any chase scene set in a foreign country , most notably in europe . \\nthe chase will take itself through a marketplace , and a fruit cart will be overturned . \\nit's almost a guarantee . \\nanyway . . . . \\ncondor is given a key which is supposed to unlock a giant vault in which the gold is hidden ; the problem is that the key has insulators integrated into it , which may mean a booby trap might be electronically triggered if the key is used improperly . \\nto help him figure out where the gold is hidden and how to use the key correctly , condor is accompanied by a desert expert ( carol cheng ) and the granddaughter of the captain who was in charge of hiding the gold ( eva cobo ) . \\nthere aren't supposed to be any relatives of the nazi captain living in spain , but condor finds the granddaughter by looking her up in the phone book or something . \\nalthough these two women are supposed to be integral parts of the mission , they prove no help at all except to get in trouble and provide an excuse for chan to jump into his martial arts . \\nin fact , most of the scenes are so ridiculously contrived that it seems everything is just a way to set up a fight . \\ni suppose this isn't so bad , since chan's action is really the best part of the movie , and the only reason you go to see one of his films anyway . \\nif you've never seen a jackie chan movie , don't expect a great plot , but do expect to be entertained by his moves . \\nthey are so well choreographed and often so amazing that you wonder if this guy is human . \\nknowing that he does his own stunts , and knowing that this is the real stuff ( no computer-masked bungee cords here ) makes the action sequences all the more exciting . \\nyou've got to hand it to a guy who's probably broken every bone in his body for the sake of his art . \\nalso of note in this , as in any jackie chan movie , is the humor . \\nas far as i know , none of his films take themselves too seriously , and even the dramatic parts have a certain tongue-in-cheek quality about them . \\nwhat is almost masterful is the way that humor is even integrated into the fight scenes . \\nunlike a martial arts film such as anything with jean claude van damme , where the fights get you on the visceral level , fight scenes in chan's movies are simply entertaining . \\nyou marvel at both his moves and at the way he employs them in such a way to make you laugh . \\nunfortunately , even chan's mastery can't save this film . \\nthe plot and characters are so weak that they don't hold the movie together at all , and the acting is terrible . \\ncarol cheng has apparently won best actress honors at the hong kong movie awards in the past , but since operation condor is a dubbed movie it kind of takes all bets off . \\nthis , combined with an obviously low production value made we want to turn away from the screen until i heard those kicks start flying . \\n   \n",
       "392                                                                                                                                                                                                                                                                                                                                                                                                                                                                                                                                                                                                                                                                                                                                                                                                                                                                                                                                                                                                                                                                                                                                                                                                                                                                                                                                                                                                                                                                                                                                                                                                                                                                                                                                                                                                                                                                                                                                                                                                                                                 richard linklater's \" slacker , \" made in 1991 for a budget of only $23 , 000 , immerses itself in the twentysomething , college-town culture of austin , texas . \\nmost of these characters are either unemployed or work jobs that are apparently too menial to be worth mentioning . \\ntheir lifestyle is a sort of passive resistance to the idea that people should go out and actively pursue a career after graduation ; they seem content to sit around spouting off about the inadequacy of american democracy , the pervasiveness of slave morality , the subtle messages in pop culture , and such . \\nask them what they've been doing lately , and they'll more likely than not reply , \" oh , you know , just hanging out . \" \\nlinklater uses an interesting technique to examine these characters : the camera follows one person for a few minutes , then someone else walks by and the camera follows that person , who walks into a diner just as another person is walking out the door . \\n . \\n . \\n . \\nit's certainly a lot of fun listening to these characters talk : some of them are clearly very intelligent and have some genuinely insightful ideas , some of them are just plain weird , and some of them think their ideas are a lot more profound than they really are . \\nthe opening monologue , delivered by linklater himself to a taxi driver , tosses around ideas about alternate realities that nicely set up the meandering structure of the film . \\nother characters along the way offer observations about everything from dating relationships to the history of anarchist philosophy , while groups of pseudo-intellectuals kick around ideas about the nobility of sitting around and doing nothing or the subtle bribery-based morality in \" scooby-doo . \" \\nfor the most part , however , the best moments are the ones involving the slightly unhinged types . \\nnear the beginning , a paranoid man follows a pedestrian for several blocks , warning him about government conspiracies involving everything from global warming to secret colonization of mars . \\nanother man seems to be collecting televisions , keeping at least fifteen sets running at the same time and playing tapes of a graduate student who recorded himself having a nervous breakdown and destroying the camera . \\nand in a scene that drew a big laugh from everyone present when i saw the film , a man tries to achieve closure after a failed relationship by reciting poetry on a bridge and then throwing a typewriter into the creek below . \\nthe only problem with \" slacker \" is that it starts to run out of steam towards the end . \\nsince linklater only spends a few minutes with each character , the introduction of the new characters gets repetitive after a while . \\nthere are only so many times you can hear , \" hey , what's going on ? \" \\n \" not much , what are you up to ? \" \\n \" nothing really , just hanging around , \" before it gets on your nerves ; the film might well have benefited from a slightly slower pace and a little bit more characterization . \\nand the dialogue in the second half of the film is by and large not quite as interesting as that in the first half ; a jfk buff , for example , seems like a pale imitation of the previous conspiracy theorist , and many of the characters just generally aren't as weird or unique . \\ninstead of depicting a city populated by mostly normal people and then showing us the strangeness that we might not have noticed at first , linklater shows us the oddballs first , then stops and reminds us that ordinary people live there too . \\n \" slacker \" is a good film and a wonderfully offbeat and entertaining comedy , whatever its flaws , and its status as a cult classic is well-deserved . \\ni just can't help but think it might have been even better if linklater had slowed down a little bit and filmed these scenes in reverse order . \\n   \n",
       "\n",
       "     class  \n",
       "791      0  \n",
       "64       1  \n",
       "981      0  \n",
       "175      1  \n",
       "855      0  \n",
       "263      0  \n",
       "421      1  \n",
       "629      0  \n",
       "340      0  \n",
       "392      1  "
      ]
     },
     "execution_count": 71,
     "metadata": {},
     "output_type": "execute_result"
    }
   ],
   "source": [
    "# read the data into a pandas dataframe\n",
    "import pandas as pd\n",
    "import os\n",
    "def data2df (path, label):\n",
    "    file, text = [], []\n",
    "    for f in os.listdir(path):\n",
    "        file.append(f)\n",
    "        fhr = open(path+f, 'r') \n",
    "        t = fhr.read()\n",
    "        text.append(t)\n",
    "        fhr.close()\n",
    "    return(pd.DataFrame({'file': file, 'text': text, 'class':label}))\n",
    "\n",
    "dfneg = data2df('Data/MoviePosNeg/neg/', 0) # NEG\n",
    "dfpos = data2df('Data/MoviePosNeg/pos/', 1) # POS\n",
    "\n",
    "df = pd.concat([dfpos, dfneg], axis=0)\n",
    "df.sample(frac=0.005)"
   ]
  },
  {
   "cell_type": "markdown",
   "metadata": {},
   "source": [
    "<h1><center>Clean& Preprocess</center></h1>"
   ]
  },
  {
   "cell_type": "code",
   "execution_count": 72,
   "metadata": {},
   "outputs": [],
   "source": [
    "def preprocess(text):\n",
    "    # replace one or more white-space characters with a space\n",
    "    regex = re.compile(r\"\\s+\")                               \n",
    "    text = regex.sub(' ', text)    \n",
    "    # lower case\n",
    "    text = text.lower()          \n",
    "    # remove digits and punctuation\n",
    "    regex = re.compile(r\"[%s%s]\" % (string.punctuation, string.digits))\n",
    "    text = regex.sub(' ', text)           \n",
    "    # remove stop words\n",
    "    sw = stopwords.words('english')\n",
    "    text = text.split()                                              \n",
    "    text = ' '.join([w for w in text if w not in sw]) \n",
    "    # remove short words\n",
    "    ' '.join([w for w in text.split() if len(w) >= 2])\n",
    "    # lemmatize\n",
    "    text = ' '.join([(WordNetLemmatizer()).lemmatize(w) for w in text.split()]) \n",
    "    return text"
   ]
  },
  {
   "cell_type": "code",
   "execution_count": 73,
   "metadata": {},
   "outputs": [],
   "source": [
    "df['text_tokenize'] = df.apply(lambda x: word_tokenize(str(x['text'])),axis=1)"
   ]
  },
  {
   "cell_type": "code",
   "execution_count": 74,
   "metadata": {},
   "outputs": [],
   "source": [
    "reviews = df['text_tokenize'].values.tolist()"
   ]
  },
  {
   "cell_type": "code",
   "execution_count": 75,
   "metadata": {},
   "outputs": [],
   "source": [
    "reviews_no_stop = []\n",
    "for review in reviews:\n",
    "    temp_lst = [w for w in review if not w in stop_words] \n",
    "    reviews_no_stop.append(temp_lst)"
   ]
  },
  {
   "cell_type": "code",
   "execution_count": 76,
   "metadata": {},
   "outputs": [],
   "source": [
    "df['text_tokenize'] = reviews_no_stop"
   ]
  },
  {
   "cell_type": "code",
   "execution_count": null,
   "metadata": {},
   "outputs": [],
   "source": []
  },
  {
   "cell_type": "markdown",
   "metadata": {},
   "source": [
    "<h1><center>Train Model Using Word2Vec</center></h1>"
   ]
  },
  {
   "cell_type": "code",
   "execution_count": 77,
   "metadata": {},
   "outputs": [],
   "source": [
    "from gensim.models import word2vec\n",
    "w2v_model = word2vec.Word2Vec(reviews_no_stop, size = 300) "
   ]
  },
  {
   "cell_type": "code",
   "execution_count": 78,
   "metadata": {},
   "outputs": [],
   "source": [
    "def vectorize(model):\n",
    "    review_counter = 0 \n",
    "    all_review_vectors = np.zeros((len(reviews),300))\n",
    "    all_words = set(model.wv.index2word)\n",
    "\n",
    "    for review in reviews:\n",
    "        word_counter = 0\n",
    "        one_review_vector = np.zeros(300)\n",
    "\n",
    "        for word in review: \n",
    "            if word in all_words: \n",
    "                word_counter = word_counter + 1\n",
    "                one_review_vector = np.add(one_review_vector,model[word])\n",
    "\n",
    "        one_review_vector = np.divide(one_review_vector, word_counter)        \n",
    "\n",
    "        all_review_vectors[review_counter] = one_review_vector\n",
    "        review_counter = review_counter + 1 \n",
    "\n",
    "    # set null values to be zero \n",
    "    all_review_vectors = np.nan_to_num(all_review_vectors)\n",
    "    return all_review_vectors"
   ]
  },
  {
   "cell_type": "code",
   "execution_count": 79,
   "metadata": {},
   "outputs": [],
   "source": [
    "all_review_vectors_w2v_model = vectorize(w2v_model)"
   ]
  },
  {
   "cell_type": "code",
   "execution_count": 80,
   "metadata": {},
   "outputs": [],
   "source": [
    "def logistic_model_accuracy(vectors):\n",
    "    # split dataset into train and test \n",
    "    X_train, X_test, y_train, y_test = train_test_split(vectors,df['class'],\n",
    "                                                       test_size = 0.2, random_state = 0)\n",
    "\n",
    "    # initialize prediction regression model \n",
    "    logistic_regression_model = LogisticRegression()\n",
    "\n",
    "    # fit model \n",
    "    logistic_regression_model.fit(X_train, y_train)\n",
    "\n",
    "    # predict y values for model \n",
    "    y_train_pred = logistic_regression_model.predict(X_train)\n",
    "\n",
    "    return (\"Accuracy Score: \", round(accuracy_score(y_train, y_train_pred),2))"
   ]
  },
  {
   "cell_type": "code",
   "execution_count": 81,
   "metadata": {},
   "outputs": [
    {
     "data": {
      "text/plain": [
       "('Accuracy Score: ', 0.62)"
      ]
     },
     "execution_count": 81,
     "metadata": {},
     "output_type": "execute_result"
    }
   ],
   "source": [
    "logistic_model_accuracy(all_review_vectors_w2v_model)"
   ]
  },
  {
   "cell_type": "markdown",
   "metadata": {},
   "source": [
    "<h1><center> Use Pre-Trained Word2Vec Model <h1><center>"
   ]
  },
  {
   "cell_type": "code",
   "execution_count": 82,
   "metadata": {},
   "outputs": [
    {
     "data": {
      "text/plain": [
       "<gensim.models.keyedvectors.Word2VecKeyedVectors at 0x1c17612ef0>"
      ]
     },
     "execution_count": 82,
     "metadata": {},
     "output_type": "execute_result"
    }
   ],
   "source": [
    "model"
   ]
  },
  {
   "cell_type": "code",
   "execution_count": 84,
   "metadata": {},
   "outputs": [
    {
     "name": "stdout",
     "output_type": "stream",
     "text": [
      "('woman', 0.7609435319900513)\n"
     ]
    }
   ],
   "source": [
    "print(model.most_similar(positive=['man', 'queen'], negative=['king'])[0])"
   ]
  },
  {
   "cell_type": "code",
   "execution_count": 85,
   "metadata": {},
   "outputs": [],
   "source": [
    "all_review_vectors_pretrained_model = vectorize(model)"
   ]
  },
  {
   "cell_type": "code",
   "execution_count": 86,
   "metadata": {},
   "outputs": [
    {
     "data": {
      "text/plain": [
       "('Accuracy Score: ', 0.76)"
      ]
     },
     "execution_count": 86,
     "metadata": {},
     "output_type": "execute_result"
    }
   ],
   "source": [
    "logistic_model_accuracy(all_review_vectors_pretrained_model)"
   ]
  },
  {
   "cell_type": "markdown",
   "metadata": {},
   "source": [
    "<h1><center>  Tfidf + Logistic Reg</center></h1>"
   ]
  },
  {
   "cell_type": "code",
   "execution_count": 87,
   "metadata": {},
   "outputs": [],
   "source": [
    "X_train, X_test, y_train, y_test  = train_test_split(df['text'],df['class'])"
   ]
  },
  {
   "cell_type": "code",
   "execution_count": 90,
   "metadata": {},
   "outputs": [
    {
     "data": {
      "text/plain": [
       "TfidfVectorizer(analyzer='word', binary=False, decode_error='strict',\n",
       "        dtype=<class 'numpy.float64'>, encoding='utf-8', input='content',\n",
       "        lowercase=True, max_df=1.0, max_features=None, min_df=1,\n",
       "        ngram_range=(1, 1), norm='l2', preprocessor=None, smooth_idf=True,\n",
       "        stop_words=None, strip_accents=None, sublinear_tf=False,\n",
       "        token_pattern='(?u)\\\\b\\\\w\\\\w+\\\\b', tokenizer=None, use_idf=True,\n",
       "        vocabulary=None)"
      ]
     },
     "execution_count": 90,
     "metadata": {},
     "output_type": "execute_result"
    }
   ],
   "source": [
    "vect = TfidfVectorizer()\n",
    "vect.fit(X_train)"
   ]
  },
  {
   "cell_type": "code",
   "execution_count": 91,
   "metadata": {
    "scrolled": true
   },
   "outputs": [
    {
     "data": {
      "text/plain": [
       "<1500x35257 sparse matrix of type '<class 'numpy.float64'>'\n",
       "\twith 498382 stored elements in Compressed Sparse Row format>"
      ]
     },
     "execution_count": 91,
     "metadata": {},
     "output_type": "execute_result"
    }
   ],
   "source": [
    "vect.transform(X_train)"
   ]
  },
  {
   "cell_type": "code",
   "execution_count": 93,
   "metadata": {},
   "outputs": [
    {
     "data": {
      "text/plain": [
       "SGDClassifier(alpha=0.0001, average=False, class_weight=None,\n",
       "       early_stopping=False, epsilon=0.1, eta0=0.0, fit_intercept=True,\n",
       "       l1_ratio=0.15, learning_rate='optimal', loss='hinge', max_iter=None,\n",
       "       n_iter=None, n_iter_no_change=5, n_jobs=None, penalty='l2',\n",
       "       power_t=0.5, random_state=None, shuffle=True, tol=None,\n",
       "       validation_fraction=0.1, verbose=0, warm_start=False)"
      ]
     },
     "execution_count": 93,
     "metadata": {},
     "output_type": "execute_result"
    }
   ],
   "source": [
    "sdg_classifier = SGDClassifier()\n",
    "sdg_classifier.fit(vect.transform(X_train), y_train)"
   ]
  },
  {
   "cell_type": "code",
   "execution_count": 94,
   "metadata": {},
   "outputs": [],
   "source": [
    "y_pred_tfidf = sdg_classifier.predict(vect.transform(X_test))"
   ]
  },
  {
   "cell_type": "code",
   "execution_count": 97,
   "metadata": {},
   "outputs": [
    {
     "name": "stdout",
     "output_type": "stream",
     "text": [
      "TFIDF Accuracy Score:  0.84\n"
     ]
    }
   ],
   "source": [
    "print(\"TFIDF Accuracy Score: \", round(accuracy_score(y_pred_tfidf,y_test),2))"
   ]
  },
  {
   "cell_type": "code",
   "execution_count": 99,
   "metadata": {},
   "outputs": [
    {
     "data": {
      "text/plain": [
       "LogisticRegression(C=1.0, class_weight=None, dual=False, fit_intercept=True,\n",
       "          intercept_scaling=1, max_iter=100, multi_class='warn',\n",
       "          n_jobs=None, penalty='l2', random_state=None, solver='warn',\n",
       "          tol=0.0001, verbose=0, warm_start=False)"
      ]
     },
     "execution_count": 99,
     "metadata": {},
     "output_type": "execute_result"
    }
   ],
   "source": [
    "from sklearn.linear_model import LogisticRegression\n",
    "mdl = LogisticRegression()\n",
    "mdl.fit(vect.transform(X_train), y_train)"
   ]
  },
  {
   "cell_type": "code",
   "execution_count": 103,
   "metadata": {},
   "outputs": [
    {
     "data": {
      "text/html": [
       "<div>\n",
       "<style scoped>\n",
       "    .dataframe tbody tr th:only-of-type {\n",
       "        vertical-align: middle;\n",
       "    }\n",
       "\n",
       "    .dataframe tbody tr th {\n",
       "        vertical-align: top;\n",
       "    }\n",
       "\n",
       "    .dataframe thead th {\n",
       "        text-align: right;\n",
       "    }\n",
       "</style>\n",
       "<table border=\"1\" class=\"dataframe\">\n",
       "  <thead>\n",
       "    <tr style=\"text-align: right;\">\n",
       "      <th></th>\n",
       "      <th>00</th>\n",
       "      <th>000</th>\n",
       "      <th>0009f</th>\n",
       "      <th>007</th>\n",
       "      <th>00s</th>\n",
       "      <th>05</th>\n",
       "      <th>10</th>\n",
       "      <th>100</th>\n",
       "      <th>1000</th>\n",
       "      <th>10000</th>\n",
       "      <th>...</th>\n",
       "      <th>zucker</th>\n",
       "      <th>zuehlke</th>\n",
       "      <th>zuko</th>\n",
       "      <th>zulu</th>\n",
       "      <th>zundel</th>\n",
       "      <th>zurg</th>\n",
       "      <th>zus</th>\n",
       "      <th>zwick</th>\n",
       "      <th>zwigoff</th>\n",
       "      <th>zycie</th>\n",
       "    </tr>\n",
       "  </thead>\n",
       "  <tbody>\n",
       "    <tr>\n",
       "      <th>0</th>\n",
       "      <td>0.0</td>\n",
       "      <td>0.0</td>\n",
       "      <td>0.0</td>\n",
       "      <td>0.0</td>\n",
       "      <td>0.0</td>\n",
       "      <td>0.0</td>\n",
       "      <td>0.0</td>\n",
       "      <td>0.0</td>\n",
       "      <td>0.0</td>\n",
       "      <td>0.0</td>\n",
       "      <td>...</td>\n",
       "      <td>0.0</td>\n",
       "      <td>0.0</td>\n",
       "      <td>0.0</td>\n",
       "      <td>0.0</td>\n",
       "      <td>0.0</td>\n",
       "      <td>0.0</td>\n",
       "      <td>0.0</td>\n",
       "      <td>0.0</td>\n",
       "      <td>0.0</td>\n",
       "      <td>0.0</td>\n",
       "    </tr>\n",
       "    <tr>\n",
       "      <th>1</th>\n",
       "      <td>0.0</td>\n",
       "      <td>0.0</td>\n",
       "      <td>0.0</td>\n",
       "      <td>0.0</td>\n",
       "      <td>0.0</td>\n",
       "      <td>0.0</td>\n",
       "      <td>0.0</td>\n",
       "      <td>0.0</td>\n",
       "      <td>0.0</td>\n",
       "      <td>0.0</td>\n",
       "      <td>...</td>\n",
       "      <td>0.0</td>\n",
       "      <td>0.0</td>\n",
       "      <td>0.0</td>\n",
       "      <td>0.0</td>\n",
       "      <td>0.0</td>\n",
       "      <td>0.0</td>\n",
       "      <td>0.0</td>\n",
       "      <td>0.0</td>\n",
       "      <td>0.0</td>\n",
       "      <td>0.0</td>\n",
       "    </tr>\n",
       "    <tr>\n",
       "      <th>2</th>\n",
       "      <td>0.0</td>\n",
       "      <td>0.0</td>\n",
       "      <td>0.0</td>\n",
       "      <td>0.0</td>\n",
       "      <td>0.0</td>\n",
       "      <td>0.0</td>\n",
       "      <td>0.0</td>\n",
       "      <td>0.0</td>\n",
       "      <td>0.0</td>\n",
       "      <td>0.0</td>\n",
       "      <td>...</td>\n",
       "      <td>0.0</td>\n",
       "      <td>0.0</td>\n",
       "      <td>0.0</td>\n",
       "      <td>0.0</td>\n",
       "      <td>0.0</td>\n",
       "      <td>0.0</td>\n",
       "      <td>0.0</td>\n",
       "      <td>0.0</td>\n",
       "      <td>0.0</td>\n",
       "      <td>0.0</td>\n",
       "    </tr>\n",
       "    <tr>\n",
       "      <th>3</th>\n",
       "      <td>0.0</td>\n",
       "      <td>0.0</td>\n",
       "      <td>0.0</td>\n",
       "      <td>0.0</td>\n",
       "      <td>0.0</td>\n",
       "      <td>0.0</td>\n",
       "      <td>0.0</td>\n",
       "      <td>0.0</td>\n",
       "      <td>0.0</td>\n",
       "      <td>0.0</td>\n",
       "      <td>...</td>\n",
       "      <td>0.0</td>\n",
       "      <td>0.0</td>\n",
       "      <td>0.0</td>\n",
       "      <td>0.0</td>\n",
       "      <td>0.0</td>\n",
       "      <td>0.0</td>\n",
       "      <td>0.0</td>\n",
       "      <td>0.0</td>\n",
       "      <td>0.0</td>\n",
       "      <td>0.0</td>\n",
       "    </tr>\n",
       "    <tr>\n",
       "      <th>4</th>\n",
       "      <td>0.0</td>\n",
       "      <td>0.0</td>\n",
       "      <td>0.0</td>\n",
       "      <td>0.0</td>\n",
       "      <td>0.0</td>\n",
       "      <td>0.0</td>\n",
       "      <td>0.0</td>\n",
       "      <td>0.0</td>\n",
       "      <td>0.0</td>\n",
       "      <td>0.0</td>\n",
       "      <td>...</td>\n",
       "      <td>0.0</td>\n",
       "      <td>0.0</td>\n",
       "      <td>0.0</td>\n",
       "      <td>0.0</td>\n",
       "      <td>0.0</td>\n",
       "      <td>0.0</td>\n",
       "      <td>0.0</td>\n",
       "      <td>0.0</td>\n",
       "      <td>0.0</td>\n",
       "      <td>0.0</td>\n",
       "    </tr>\n",
       "  </tbody>\n",
       "</table>\n",
       "<p>5 rows × 35257 columns</p>\n",
       "</div>"
      ],
      "text/plain": [
       "    00  000  0009f  007  00s   05   10  100  1000  10000  ...    zucker  \\\n",
       "0  0.0  0.0    0.0  0.0  0.0  0.0  0.0  0.0   0.0    0.0  ...       0.0   \n",
       "1  0.0  0.0    0.0  0.0  0.0  0.0  0.0  0.0   0.0    0.0  ...       0.0   \n",
       "2  0.0  0.0    0.0  0.0  0.0  0.0  0.0  0.0   0.0    0.0  ...       0.0   \n",
       "3  0.0  0.0    0.0  0.0  0.0  0.0  0.0  0.0   0.0    0.0  ...       0.0   \n",
       "4  0.0  0.0    0.0  0.0  0.0  0.0  0.0  0.0   0.0    0.0  ...       0.0   \n",
       "\n",
       "   zuehlke  zuko  zulu  zundel  zurg  zus  zwick  zwigoff  zycie  \n",
       "0      0.0   0.0   0.0     0.0   0.0  0.0    0.0      0.0    0.0  \n",
       "1      0.0   0.0   0.0     0.0   0.0  0.0    0.0      0.0    0.0  \n",
       "2      0.0   0.0   0.0     0.0   0.0  0.0    0.0      0.0    0.0  \n",
       "3      0.0   0.0   0.0     0.0   0.0  0.0    0.0      0.0    0.0  \n",
       "4      0.0   0.0   0.0     0.0   0.0  0.0    0.0      0.0    0.0  \n",
       "\n",
       "[5 rows x 35257 columns]"
      ]
     },
     "execution_count": 103,
     "metadata": {},
     "output_type": "execute_result"
    }
   ],
   "source": [
    "XTtest = pd.DataFrame(vect.transform(X_test).toarray(), columns=vect.get_feature_names())\n",
    "XTtest.head()"
   ]
  },
  {
   "cell_type": "code",
   "execution_count": 105,
   "metadata": {},
   "outputs": [
    {
     "name": "stdout",
     "output_type": "stream",
     "text": [
      "0.83\n",
      "[[204  38]\n",
      " [ 47 211]]\n",
      "              precision    recall  f1-score   support\n",
      "\n",
      "           0       0.81      0.84      0.83       242\n",
      "           1       0.85      0.82      0.83       258\n",
      "\n",
      "   micro avg       0.83      0.83      0.83       500\n",
      "   macro avg       0.83      0.83      0.83       500\n",
      "weighted avg       0.83      0.83      0.83       500\n",
      "\n"
     ]
    }
   ],
   "source": [
    "ypred = mdl.predict(XTtest)\n",
    "from sklearn import metrics\n",
    "print (metrics.accuracy_score(y_test, ypred))\n",
    "print (metrics.confusion_matrix(y_test, ypred))\n",
    "print (metrics.classification_report(y_test, ypred))"
   ]
  },
  {
   "cell_type": "markdown",
   "metadata": {},
   "source": [
    "<h1><center> TFIDF + W2V + Logistic Reg</center></h1>"
   ]
  },
  {
   "cell_type": "code",
   "execution_count": 106,
   "metadata": {},
   "outputs": [],
   "source": [
    "def avgW2V(model, df, weighted=True):\n",
    "    modeldim = model.vector_size      # test: 3\n",
    "    modelvocab = model.index2word # test: modelvocab = ['w1', 'w2', 'w3', 'w4', 'w5']\n",
    "    numdocs = (len(df))\n",
    "    avgw2v = pd.DataFrame(np.zeros((numdocs,modeldim)))\n",
    "    # for each doc \n",
    "    for i in range(numdocs):\n",
    "        # pick up only those words that have values > 0 in df\n",
    "        ser = df.loc[i][df.loc[i]>0] \n",
    "        words, scores = ser.index, ser.values\n",
    "        #  if weighted=False , set scores to 1, else pick up the real scores\n",
    "        if (weighted==False):\n",
    "            scores = scores/scores\n",
    "        # find the avg w2v doc vectors\n",
    "        sumw2v, sumweights = 0, 0\n",
    "        for s,w in zip(scores,words):\n",
    "            if w in modelvocab:\n",
    "                sumw2v += s*model[w]\n",
    "                sumweights += s\n",
    "        avgw2v.loc[i] = sumw2v/sumweights\n",
    "    return avgw2v"
   ]
  },
  {
   "cell_type": "code",
   "execution_count": 108,
   "metadata": {},
   "outputs": [
    {
     "data": {
      "text/html": [
       "<div>\n",
       "<style scoped>\n",
       "    .dataframe tbody tr th:only-of-type {\n",
       "        vertical-align: middle;\n",
       "    }\n",
       "\n",
       "    .dataframe tbody tr th {\n",
       "        vertical-align: top;\n",
       "    }\n",
       "\n",
       "    .dataframe thead th {\n",
       "        text-align: right;\n",
       "    }\n",
       "</style>\n",
       "<table border=\"1\" class=\"dataframe\">\n",
       "  <thead>\n",
       "    <tr style=\"text-align: right;\">\n",
       "      <th></th>\n",
       "      <th>000</th>\n",
       "      <th>10</th>\n",
       "      <th>100</th>\n",
       "      <th>101</th>\n",
       "      <th>11</th>\n",
       "      <th>12</th>\n",
       "      <th>13</th>\n",
       "      <th>13th</th>\n",
       "      <th>14</th>\n",
       "      <th>15</th>\n",
       "      <th>...</th>\n",
       "      <th>younger</th>\n",
       "      <th>your</th>\n",
       "      <th>yourself</th>\n",
       "      <th>youth</th>\n",
       "      <th>zany</th>\n",
       "      <th>zellweger</th>\n",
       "      <th>zero</th>\n",
       "      <th>zeta</th>\n",
       "      <th>zone</th>\n",
       "      <th>zwick</th>\n",
       "    </tr>\n",
       "  </thead>\n",
       "  <tbody>\n",
       "    <tr>\n",
       "      <th>0</th>\n",
       "      <td>0.0</td>\n",
       "      <td>0.0</td>\n",
       "      <td>0.0</td>\n",
       "      <td>0.0</td>\n",
       "      <td>0.033167</td>\n",
       "      <td>0.059063</td>\n",
       "      <td>0.0</td>\n",
       "      <td>0.0</td>\n",
       "      <td>0.0</td>\n",
       "      <td>0.0</td>\n",
       "      <td>...</td>\n",
       "      <td>0.0</td>\n",
       "      <td>0.000000</td>\n",
       "      <td>0.0</td>\n",
       "      <td>0.0</td>\n",
       "      <td>0.0</td>\n",
       "      <td>0.0</td>\n",
       "      <td>0.0</td>\n",
       "      <td>0.0</td>\n",
       "      <td>0.0</td>\n",
       "      <td>0.0</td>\n",
       "    </tr>\n",
       "    <tr>\n",
       "      <th>1</th>\n",
       "      <td>0.0</td>\n",
       "      <td>0.0</td>\n",
       "      <td>0.0</td>\n",
       "      <td>0.0</td>\n",
       "      <td>0.000000</td>\n",
       "      <td>0.000000</td>\n",
       "      <td>0.0</td>\n",
       "      <td>0.0</td>\n",
       "      <td>0.0</td>\n",
       "      <td>0.0</td>\n",
       "      <td>...</td>\n",
       "      <td>0.0</td>\n",
       "      <td>0.000000</td>\n",
       "      <td>0.0</td>\n",
       "      <td>0.0</td>\n",
       "      <td>0.0</td>\n",
       "      <td>0.0</td>\n",
       "      <td>0.0</td>\n",
       "      <td>0.0</td>\n",
       "      <td>0.0</td>\n",
       "      <td>0.0</td>\n",
       "    </tr>\n",
       "    <tr>\n",
       "      <th>2</th>\n",
       "      <td>0.0</td>\n",
       "      <td>0.0</td>\n",
       "      <td>0.0</td>\n",
       "      <td>0.0</td>\n",
       "      <td>0.000000</td>\n",
       "      <td>0.000000</td>\n",
       "      <td>0.0</td>\n",
       "      <td>0.0</td>\n",
       "      <td>0.0</td>\n",
       "      <td>0.0</td>\n",
       "      <td>...</td>\n",
       "      <td>0.0</td>\n",
       "      <td>0.000000</td>\n",
       "      <td>0.0</td>\n",
       "      <td>0.0</td>\n",
       "      <td>0.0</td>\n",
       "      <td>0.0</td>\n",
       "      <td>0.0</td>\n",
       "      <td>0.0</td>\n",
       "      <td>0.0</td>\n",
       "      <td>0.0</td>\n",
       "    </tr>\n",
       "    <tr>\n",
       "      <th>3</th>\n",
       "      <td>0.0</td>\n",
       "      <td>0.0</td>\n",
       "      <td>0.0</td>\n",
       "      <td>0.0</td>\n",
       "      <td>0.000000</td>\n",
       "      <td>0.000000</td>\n",
       "      <td>0.0</td>\n",
       "      <td>0.0</td>\n",
       "      <td>0.0</td>\n",
       "      <td>0.0</td>\n",
       "      <td>...</td>\n",
       "      <td>0.0</td>\n",
       "      <td>0.014889</td>\n",
       "      <td>0.0</td>\n",
       "      <td>0.0</td>\n",
       "      <td>0.0</td>\n",
       "      <td>0.0</td>\n",
       "      <td>0.0</td>\n",
       "      <td>0.0</td>\n",
       "      <td>0.0</td>\n",
       "      <td>0.0</td>\n",
       "    </tr>\n",
       "    <tr>\n",
       "      <th>4</th>\n",
       "      <td>0.0</td>\n",
       "      <td>0.0</td>\n",
       "      <td>0.0</td>\n",
       "      <td>0.0</td>\n",
       "      <td>0.000000</td>\n",
       "      <td>0.000000</td>\n",
       "      <td>0.0</td>\n",
       "      <td>0.0</td>\n",
       "      <td>0.0</td>\n",
       "      <td>0.0</td>\n",
       "      <td>...</td>\n",
       "      <td>0.0</td>\n",
       "      <td>0.000000</td>\n",
       "      <td>0.0</td>\n",
       "      <td>0.0</td>\n",
       "      <td>0.0</td>\n",
       "      <td>0.0</td>\n",
       "      <td>0.0</td>\n",
       "      <td>0.0</td>\n",
       "      <td>0.0</td>\n",
       "      <td>0.0</td>\n",
       "    </tr>\n",
       "  </tbody>\n",
       "</table>\n",
       "<p>5 rows × 5000 columns</p>\n",
       "</div>"
      ],
      "text/plain": [
       "   000   10  100  101        11        12   13  13th   14   15  ...    \\\n",
       "0  0.0  0.0  0.0  0.0  0.033167  0.059063  0.0   0.0  0.0  0.0  ...     \n",
       "1  0.0  0.0  0.0  0.0  0.000000  0.000000  0.0   0.0  0.0  0.0  ...     \n",
       "2  0.0  0.0  0.0  0.0  0.000000  0.000000  0.0   0.0  0.0  0.0  ...     \n",
       "3  0.0  0.0  0.0  0.0  0.000000  0.000000  0.0   0.0  0.0  0.0  ...     \n",
       "4  0.0  0.0  0.0  0.0  0.000000  0.000000  0.0   0.0  0.0  0.0  ...     \n",
       "\n",
       "   younger      your  yourself  youth  zany  zellweger  zero  zeta  zone  \\\n",
       "0      0.0  0.000000       0.0    0.0   0.0        0.0   0.0   0.0   0.0   \n",
       "1      0.0  0.000000       0.0    0.0   0.0        0.0   0.0   0.0   0.0   \n",
       "2      0.0  0.000000       0.0    0.0   0.0        0.0   0.0   0.0   0.0   \n",
       "3      0.0  0.014889       0.0    0.0   0.0        0.0   0.0   0.0   0.0   \n",
       "4      0.0  0.000000       0.0    0.0   0.0        0.0   0.0   0.0   0.0   \n",
       "\n",
       "   zwick  \n",
       "0    0.0  \n",
       "1    0.0  \n",
       "2    0.0  \n",
       "3    0.0  \n",
       "4    0.0  \n",
       "\n",
       "[5 rows x 5000 columns]"
      ]
     },
     "execution_count": 108,
     "metadata": {},
     "output_type": "execute_result"
    }
   ],
   "source": [
    "from sklearn.feature_extraction.text import TfidfVectorizer\n",
    "tv = TfidfVectorizer(\n",
    "    use_idf=True, smooth_idf=True, norm='l2',\n",
    "    min_df=3, max_df=1.0, max_features=5000, \n",
    "    ngram_range=(1, 1))\n",
    "XTtrain = pd.DataFrame(tv.fit_transform(X_train).toarray(), columns=tv.get_feature_names())\n",
    "XTtrain.head()"
   ]
  },
  {
   "cell_type": "code",
   "execution_count": 109,
   "metadata": {},
   "outputs": [
    {
     "data": {
      "text/html": [
       "<div>\n",
       "<style scoped>\n",
       "    .dataframe tbody tr th:only-of-type {\n",
       "        vertical-align: middle;\n",
       "    }\n",
       "\n",
       "    .dataframe tbody tr th {\n",
       "        vertical-align: top;\n",
       "    }\n",
       "\n",
       "    .dataframe thead th {\n",
       "        text-align: right;\n",
       "    }\n",
       "</style>\n",
       "<table border=\"1\" class=\"dataframe\">\n",
       "  <thead>\n",
       "    <tr style=\"text-align: right;\">\n",
       "      <th></th>\n",
       "      <th>0</th>\n",
       "      <th>1</th>\n",
       "      <th>2</th>\n",
       "      <th>3</th>\n",
       "      <th>4</th>\n",
       "      <th>5</th>\n",
       "      <th>6</th>\n",
       "      <th>7</th>\n",
       "      <th>8</th>\n",
       "      <th>9</th>\n",
       "      <th>...</th>\n",
       "      <th>290</th>\n",
       "      <th>291</th>\n",
       "      <th>292</th>\n",
       "      <th>293</th>\n",
       "      <th>294</th>\n",
       "      <th>295</th>\n",
       "      <th>296</th>\n",
       "      <th>297</th>\n",
       "      <th>298</th>\n",
       "      <th>299</th>\n",
       "    </tr>\n",
       "  </thead>\n",
       "  <tbody>\n",
       "    <tr>\n",
       "      <th>0</th>\n",
       "      <td>0.051567</td>\n",
       "      <td>0.056669</td>\n",
       "      <td>-0.012448</td>\n",
       "      <td>0.087815</td>\n",
       "      <td>-0.041689</td>\n",
       "      <td>-0.004975</td>\n",
       "      <td>0.029989</td>\n",
       "      <td>-0.086169</td>\n",
       "      <td>0.051148</td>\n",
       "      <td>0.082134</td>\n",
       "      <td>...</td>\n",
       "      <td>-0.087501</td>\n",
       "      <td>0.019493</td>\n",
       "      <td>-0.064522</td>\n",
       "      <td>0.018563</td>\n",
       "      <td>-0.031242</td>\n",
       "      <td>-0.007383</td>\n",
       "      <td>0.016751</td>\n",
       "      <td>-0.043850</td>\n",
       "      <td>0.019675</td>\n",
       "      <td>0.005698</td>\n",
       "    </tr>\n",
       "    <tr>\n",
       "      <th>1</th>\n",
       "      <td>0.054291</td>\n",
       "      <td>0.040925</td>\n",
       "      <td>0.014341</td>\n",
       "      <td>0.087313</td>\n",
       "      <td>-0.039136</td>\n",
       "      <td>-0.015663</td>\n",
       "      <td>0.008342</td>\n",
       "      <td>-0.111436</td>\n",
       "      <td>0.094570</td>\n",
       "      <td>0.069755</td>\n",
       "      <td>...</td>\n",
       "      <td>-0.037187</td>\n",
       "      <td>-0.014824</td>\n",
       "      <td>-0.066222</td>\n",
       "      <td>0.026243</td>\n",
       "      <td>-0.048340</td>\n",
       "      <td>-0.026352</td>\n",
       "      <td>-0.033588</td>\n",
       "      <td>-0.070457</td>\n",
       "      <td>0.033098</td>\n",
       "      <td>-0.000831</td>\n",
       "    </tr>\n",
       "    <tr>\n",
       "      <th>2</th>\n",
       "      <td>0.055673</td>\n",
       "      <td>0.033510</td>\n",
       "      <td>0.027125</td>\n",
       "      <td>0.078745</td>\n",
       "      <td>-0.048241</td>\n",
       "      <td>0.009528</td>\n",
       "      <td>0.060278</td>\n",
       "      <td>-0.057746</td>\n",
       "      <td>0.069177</td>\n",
       "      <td>0.088370</td>\n",
       "      <td>...</td>\n",
       "      <td>-0.062296</td>\n",
       "      <td>0.013395</td>\n",
       "      <td>-0.083208</td>\n",
       "      <td>0.032818</td>\n",
       "      <td>-0.059708</td>\n",
       "      <td>-0.022631</td>\n",
       "      <td>0.008184</td>\n",
       "      <td>-0.075018</td>\n",
       "      <td>0.028616</td>\n",
       "      <td>0.003475</td>\n",
       "    </tr>\n",
       "    <tr>\n",
       "      <th>3</th>\n",
       "      <td>0.021245</td>\n",
       "      <td>0.041555</td>\n",
       "      <td>0.014672</td>\n",
       "      <td>0.101468</td>\n",
       "      <td>-0.051515</td>\n",
       "      <td>-0.010543</td>\n",
       "      <td>0.019666</td>\n",
       "      <td>-0.073800</td>\n",
       "      <td>0.062720</td>\n",
       "      <td>0.078564</td>\n",
       "      <td>...</td>\n",
       "      <td>-0.051025</td>\n",
       "      <td>0.038158</td>\n",
       "      <td>-0.078457</td>\n",
       "      <td>0.028324</td>\n",
       "      <td>-0.031824</td>\n",
       "      <td>-0.022925</td>\n",
       "      <td>-0.004135</td>\n",
       "      <td>-0.042222</td>\n",
       "      <td>0.008746</td>\n",
       "      <td>0.000337</td>\n",
       "    </tr>\n",
       "    <tr>\n",
       "      <th>4</th>\n",
       "      <td>0.031039</td>\n",
       "      <td>0.045775</td>\n",
       "      <td>0.009521</td>\n",
       "      <td>0.089179</td>\n",
       "      <td>-0.048876</td>\n",
       "      <td>-0.016164</td>\n",
       "      <td>0.031938</td>\n",
       "      <td>-0.055786</td>\n",
       "      <td>0.086130</td>\n",
       "      <td>0.085161</td>\n",
       "      <td>...</td>\n",
       "      <td>-0.088386</td>\n",
       "      <td>0.042345</td>\n",
       "      <td>-0.089749</td>\n",
       "      <td>0.040763</td>\n",
       "      <td>-0.047209</td>\n",
       "      <td>-0.035047</td>\n",
       "      <td>0.015346</td>\n",
       "      <td>-0.038481</td>\n",
       "      <td>0.046984</td>\n",
       "      <td>-0.006512</td>\n",
       "    </tr>\n",
       "  </tbody>\n",
       "</table>\n",
       "<p>5 rows × 300 columns</p>\n",
       "</div>"
      ],
      "text/plain": [
       "        0         1         2         3         4         5         6    \\\n",
       "0  0.051567  0.056669 -0.012448  0.087815 -0.041689 -0.004975  0.029989   \n",
       "1  0.054291  0.040925  0.014341  0.087313 -0.039136 -0.015663  0.008342   \n",
       "2  0.055673  0.033510  0.027125  0.078745 -0.048241  0.009528  0.060278   \n",
       "3  0.021245  0.041555  0.014672  0.101468 -0.051515 -0.010543  0.019666   \n",
       "4  0.031039  0.045775  0.009521  0.089179 -0.048876 -0.016164  0.031938   \n",
       "\n",
       "        7         8         9      ...          290       291       292  \\\n",
       "0 -0.086169  0.051148  0.082134    ...    -0.087501  0.019493 -0.064522   \n",
       "1 -0.111436  0.094570  0.069755    ...    -0.037187 -0.014824 -0.066222   \n",
       "2 -0.057746  0.069177  0.088370    ...    -0.062296  0.013395 -0.083208   \n",
       "3 -0.073800  0.062720  0.078564    ...    -0.051025  0.038158 -0.078457   \n",
       "4 -0.055786  0.086130  0.085161    ...    -0.088386  0.042345 -0.089749   \n",
       "\n",
       "        293       294       295       296       297       298       299  \n",
       "0  0.018563 -0.031242 -0.007383  0.016751 -0.043850  0.019675  0.005698  \n",
       "1  0.026243 -0.048340 -0.026352 -0.033588 -0.070457  0.033098 -0.000831  \n",
       "2  0.032818 -0.059708 -0.022631  0.008184 -0.075018  0.028616  0.003475  \n",
       "3  0.028324 -0.031824 -0.022925 -0.004135 -0.042222  0.008746  0.000337  \n",
       "4  0.040763 -0.047209 -0.035047  0.015346 -0.038481  0.046984 -0.006512  \n",
       "\n",
       "[5 rows x 300 columns]"
      ]
     },
     "execution_count": 109,
     "metadata": {},
     "output_type": "execute_result"
    }
   ],
   "source": [
    "aw2vXTtrain = avgW2V(model, XTtrain, weighted=True)\n",
    "aw2vXTtrain.head()"
   ]
  },
  {
   "cell_type": "code",
   "execution_count": 111,
   "metadata": {},
   "outputs": [
    {
     "data": {
      "text/plain": [
       "LogisticRegression(C=1.0, class_weight=None, dual=False, fit_intercept=True,\n",
       "          intercept_scaling=1, max_iter=100, multi_class='warn',\n",
       "          n_jobs=None, penalty='l2', random_state=None, solver='warn',\n",
       "          tol=0.0001, verbose=0, warm_start=False)"
      ]
     },
     "execution_count": 111,
     "metadata": {},
     "output_type": "execute_result"
    }
   ],
   "source": [
    "from sklearn.linear_model import LogisticRegression\n",
    "mdl = LogisticRegression()\n",
    "mdl.fit(aw2vXTtrain, y_train)"
   ]
  },
  {
   "cell_type": "code",
   "execution_count": 112,
   "metadata": {},
   "outputs": [
    {
     "data": {
      "text/html": [
       "<div>\n",
       "<style scoped>\n",
       "    .dataframe tbody tr th:only-of-type {\n",
       "        vertical-align: middle;\n",
       "    }\n",
       "\n",
       "    .dataframe tbody tr th {\n",
       "        vertical-align: top;\n",
       "    }\n",
       "\n",
       "    .dataframe thead th {\n",
       "        text-align: right;\n",
       "    }\n",
       "</style>\n",
       "<table border=\"1\" class=\"dataframe\">\n",
       "  <thead>\n",
       "    <tr style=\"text-align: right;\">\n",
       "      <th></th>\n",
       "      <th>0</th>\n",
       "      <th>1</th>\n",
       "      <th>2</th>\n",
       "      <th>3</th>\n",
       "      <th>4</th>\n",
       "      <th>5</th>\n",
       "      <th>6</th>\n",
       "      <th>7</th>\n",
       "      <th>8</th>\n",
       "      <th>9</th>\n",
       "      <th>...</th>\n",
       "      <th>290</th>\n",
       "      <th>291</th>\n",
       "      <th>292</th>\n",
       "      <th>293</th>\n",
       "      <th>294</th>\n",
       "      <th>295</th>\n",
       "      <th>296</th>\n",
       "      <th>297</th>\n",
       "      <th>298</th>\n",
       "      <th>299</th>\n",
       "    </tr>\n",
       "  </thead>\n",
       "  <tbody>\n",
       "    <tr>\n",
       "      <th>0</th>\n",
       "      <td>0.046520</td>\n",
       "      <td>0.024911</td>\n",
       "      <td>0.003000</td>\n",
       "      <td>0.105945</td>\n",
       "      <td>-0.042543</td>\n",
       "      <td>0.011471</td>\n",
       "      <td>0.017052</td>\n",
       "      <td>-0.081678</td>\n",
       "      <td>0.055745</td>\n",
       "      <td>0.076509</td>\n",
       "      <td>...</td>\n",
       "      <td>-0.041567</td>\n",
       "      <td>0.028946</td>\n",
       "      <td>-0.106929</td>\n",
       "      <td>0.024135</td>\n",
       "      <td>-0.042407</td>\n",
       "      <td>0.007285</td>\n",
       "      <td>-0.007538</td>\n",
       "      <td>-0.067152</td>\n",
       "      <td>0.024045</td>\n",
       "      <td>-0.006080</td>\n",
       "    </tr>\n",
       "    <tr>\n",
       "      <th>1</th>\n",
       "      <td>0.077593</td>\n",
       "      <td>0.052294</td>\n",
       "      <td>0.020784</td>\n",
       "      <td>0.076122</td>\n",
       "      <td>-0.052259</td>\n",
       "      <td>0.008913</td>\n",
       "      <td>0.038178</td>\n",
       "      <td>-0.076457</td>\n",
       "      <td>0.059356</td>\n",
       "      <td>0.072469</td>\n",
       "      <td>...</td>\n",
       "      <td>-0.084569</td>\n",
       "      <td>0.025149</td>\n",
       "      <td>-0.081766</td>\n",
       "      <td>0.006284</td>\n",
       "      <td>-0.033267</td>\n",
       "      <td>-0.023910</td>\n",
       "      <td>0.009665</td>\n",
       "      <td>-0.050233</td>\n",
       "      <td>0.019294</td>\n",
       "      <td>0.008253</td>\n",
       "    </tr>\n",
       "    <tr>\n",
       "      <th>2</th>\n",
       "      <td>0.042815</td>\n",
       "      <td>0.057870</td>\n",
       "      <td>0.022324</td>\n",
       "      <td>0.097939</td>\n",
       "      <td>-0.046625</td>\n",
       "      <td>0.010425</td>\n",
       "      <td>0.058178</td>\n",
       "      <td>-0.071364</td>\n",
       "      <td>0.060803</td>\n",
       "      <td>0.084427</td>\n",
       "      <td>...</td>\n",
       "      <td>-0.071418</td>\n",
       "      <td>0.041894</td>\n",
       "      <td>-0.068603</td>\n",
       "      <td>0.023713</td>\n",
       "      <td>-0.042947</td>\n",
       "      <td>-0.022485</td>\n",
       "      <td>0.003380</td>\n",
       "      <td>-0.046121</td>\n",
       "      <td>0.013674</td>\n",
       "      <td>0.008507</td>\n",
       "    </tr>\n",
       "    <tr>\n",
       "      <th>3</th>\n",
       "      <td>0.029677</td>\n",
       "      <td>0.055065</td>\n",
       "      <td>0.041357</td>\n",
       "      <td>0.056014</td>\n",
       "      <td>-0.067226</td>\n",
       "      <td>-0.016346</td>\n",
       "      <td>0.010914</td>\n",
       "      <td>-0.052221</td>\n",
       "      <td>0.049772</td>\n",
       "      <td>0.039157</td>\n",
       "      <td>...</td>\n",
       "      <td>-0.054555</td>\n",
       "      <td>0.021470</td>\n",
       "      <td>-0.081703</td>\n",
       "      <td>0.040457</td>\n",
       "      <td>-0.043773</td>\n",
       "      <td>-0.020818</td>\n",
       "      <td>0.007604</td>\n",
       "      <td>-0.054513</td>\n",
       "      <td>0.027563</td>\n",
       "      <td>0.023348</td>\n",
       "    </tr>\n",
       "    <tr>\n",
       "      <th>4</th>\n",
       "      <td>0.020634</td>\n",
       "      <td>0.052961</td>\n",
       "      <td>0.007279</td>\n",
       "      <td>0.070402</td>\n",
       "      <td>-0.033430</td>\n",
       "      <td>0.001643</td>\n",
       "      <td>0.023190</td>\n",
       "      <td>-0.078544</td>\n",
       "      <td>0.055775</td>\n",
       "      <td>0.067468</td>\n",
       "      <td>...</td>\n",
       "      <td>-0.052076</td>\n",
       "      <td>0.034935</td>\n",
       "      <td>-0.065114</td>\n",
       "      <td>0.019398</td>\n",
       "      <td>-0.037293</td>\n",
       "      <td>-0.025797</td>\n",
       "      <td>-0.009589</td>\n",
       "      <td>-0.058464</td>\n",
       "      <td>0.010734</td>\n",
       "      <td>0.038726</td>\n",
       "    </tr>\n",
       "  </tbody>\n",
       "</table>\n",
       "<p>5 rows × 300 columns</p>\n",
       "</div>"
      ],
      "text/plain": [
       "        0         1         2         3         4         5         6    \\\n",
       "0  0.046520  0.024911  0.003000  0.105945 -0.042543  0.011471  0.017052   \n",
       "1  0.077593  0.052294  0.020784  0.076122 -0.052259  0.008913  0.038178   \n",
       "2  0.042815  0.057870  0.022324  0.097939 -0.046625  0.010425  0.058178   \n",
       "3  0.029677  0.055065  0.041357  0.056014 -0.067226 -0.016346  0.010914   \n",
       "4  0.020634  0.052961  0.007279  0.070402 -0.033430  0.001643  0.023190   \n",
       "\n",
       "        7         8         9      ...          290       291       292  \\\n",
       "0 -0.081678  0.055745  0.076509    ...    -0.041567  0.028946 -0.106929   \n",
       "1 -0.076457  0.059356  0.072469    ...    -0.084569  0.025149 -0.081766   \n",
       "2 -0.071364  0.060803  0.084427    ...    -0.071418  0.041894 -0.068603   \n",
       "3 -0.052221  0.049772  0.039157    ...    -0.054555  0.021470 -0.081703   \n",
       "4 -0.078544  0.055775  0.067468    ...    -0.052076  0.034935 -0.065114   \n",
       "\n",
       "        293       294       295       296       297       298       299  \n",
       "0  0.024135 -0.042407  0.007285 -0.007538 -0.067152  0.024045 -0.006080  \n",
       "1  0.006284 -0.033267 -0.023910  0.009665 -0.050233  0.019294  0.008253  \n",
       "2  0.023713 -0.042947 -0.022485  0.003380 -0.046121  0.013674  0.008507  \n",
       "3  0.040457 -0.043773 -0.020818  0.007604 -0.054513  0.027563  0.023348  \n",
       "4  0.019398 -0.037293 -0.025797 -0.009589 -0.058464  0.010734  0.038726  \n",
       "\n",
       "[5 rows x 300 columns]"
      ]
     },
     "execution_count": 112,
     "metadata": {},
     "output_type": "execute_result"
    }
   ],
   "source": [
    "aw2vXTtest = avgW2V(model, XTtest, weighted=True)\n",
    "aw2vXTtest.head()"
   ]
  },
  {
   "cell_type": "code",
   "execution_count": 114,
   "metadata": {},
   "outputs": [
    {
     "name": "stdout",
     "output_type": "stream",
     "text": [
      "0.762\n",
      "[[195  47]\n",
      " [ 72 186]]\n",
      "              precision    recall  f1-score   support\n",
      "\n",
      "           0       0.73      0.81      0.77       242\n",
      "           1       0.80      0.72      0.76       258\n",
      "\n",
      "   micro avg       0.76      0.76      0.76       500\n",
      "   macro avg       0.76      0.76      0.76       500\n",
      "weighted avg       0.77      0.76      0.76       500\n",
      "\n"
     ]
    }
   ],
   "source": [
    "ypred = mdl.predict(aw2vXTtest)\n",
    "from sklearn import metrics\n",
    "print (metrics.accuracy_score(y_test, ypred))\n",
    "print (metrics.confusion_matrix(y_test, ypred))\n",
    "print (metrics.classification_report(y_test, ypred))"
   ]
  },
  {
   "cell_type": "code",
   "execution_count": null,
   "metadata": {},
   "outputs": [],
   "source": []
  },
  {
   "cell_type": "code",
   "execution_count": null,
   "metadata": {},
   "outputs": [],
   "source": []
  }
 ],
 "metadata": {
  "kernelspec": {
   "display_name": "Python 3",
   "language": "python",
   "name": "python3"
  },
  "language_info": {
   "codemirror_mode": {
    "name": "ipython",
    "version": 3
   },
   "file_extension": ".py",
   "mimetype": "text/x-python",
   "name": "python",
   "nbconvert_exporter": "python",
   "pygments_lexer": "ipython3",
   "version": "3.7.1"
  }
 },
 "nbformat": 4,
 "nbformat_minor": 2
}
